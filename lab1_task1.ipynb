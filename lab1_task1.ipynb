{
 "cells": [
  {
   "cell_type": "markdown",
   "id": "e85666ab-597f-4054-8f23-471f05883025",
   "metadata": {},
   "source": [
    "* 1. one"
   ]
  },
  {
   "cell_type": "markdown",
   "id": "dc2badb7-22f2-4ac1-a508-ededef4016dd",
   "metadata": {},
   "source": [
    "  * 2. two"
   ]
  },
  {
   "cell_type": "markdown",
   "id": "5f197aa9-0ec6-4bbd-a92e-ffbd683dabcf",
   "metadata": {},
   "source": [
    "  *  two one"
   ]
  },
  {
   "cell_type": "markdown",
   "id": "68a07125-9551-47f7-a50d-415aec95e435",
   "metadata": {},
   "source": [
    "\\*literal asterisks\\*"
   ]
  },
  {
   "cell_type": "markdown",
   "id": "0bdade12-5060-4775-bde9-d342882e89de",
   "metadata": {},
   "source": [
    "\\*All true has false elements\\*"
   ]
  },
  {
   "cell_type": "markdown",
   "id": "81582ec7-6f63-4dda-9cff-a7a169331502",
   "metadata": {},
   "source": [
    "# Charpter 1"
   ]
  },
  {
   "cell_type": "markdown",
   "id": "9f6761d9-f679-4bc2-9eae-7cdec99a056c",
   "metadata": {},
   "source": [
    "## Charpter 2.1"
   ]
  },
  {
   "cell_type": "markdown",
   "id": "383a7933-0b4a-4334-a9b7-3b542d9b8fae",
   "metadata": {},
   "source": [
    "### Charpter 2.1.1"
   ]
  },
  {
   "cell_type": "code",
   "execution_count": 56,
   "id": "61056e12-e0b6-492c-a5c0-812459f6878d",
   "metadata": {},
   "outputs": [
    {
     "name": "stdout",
     "output_type": "stream",
     "text": [
      "Hello Jupyter\n"
     ]
    }
   ],
   "source": [
    "print (\"Hello Jupyter\")"
   ]
  },
  {
   "cell_type": "markdown",
   "id": "1477f7fe-6461-41e1-9c69-0df6e5a11679",
   "metadata": {
    "tags": []
   },
   "source": [
    "<img src=\"../DS_LO_BuZ/Les_mardown_complite.jpg\">"
   ]
  },
  {
   "cell_type": "markdown",
   "id": "88a00f36-94ca-4492-bc63-9077b2874ec9",
   "metadata": {},
   "source": [
    "$a + b = x$"
   ]
  },
  {
   "cell_type": "code",
   "execution_count": null,
   "id": "b136b763-28b4-4dd1-8297-edfb85a47127",
   "metadata": {},
   "outputs": [],
   "source": []
  }
 ],
 "metadata": {
  "kernelspec": {
   "display_name": "Python 3",
   "language": "python",
   "name": "python3"
  },
  "language_info": {
   "codemirror_mode": {
    "name": "ipython",
    "version": 3
   },
   "file_extension": ".py",
   "mimetype": "text/x-python",
   "name": "python",
   "nbconvert_exporter": "python",
   "pygments_lexer": "ipython3",
   "version": "3.8.8"
  }
 },
 "nbformat": 4,
 "nbformat_minor": 5
}
