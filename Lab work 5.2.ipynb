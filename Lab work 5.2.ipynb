{
 "cells": [
  {
   "cell_type": "markdown",
   "metadata": {},
   "source": [
    "___\n",
    "\n",
    "<a href='https://mainacademy.ua/'> <img src='https://mainacademy.ua/wp-content/uploads/2019/03/logo-main.png' alt = 'Хмм, щось з інтернетом'/></a>\n",
    "___\n",
    "\n",
    "# Module 5: Data analysis with NumPy and Pandas"
   ]
  },
  {
   "cell_type": "markdown",
   "metadata": {},
   "source": [
    "## Lab work 5.2\n",
    "\n"
   ]
  },
  {
   "cell_type": "markdown",
   "metadata": {},
   "source": [
    "#### Мета: \n",
    "\n",
    "* навчитися працювати із бібліотекою Pandas в Python."
   ]
  },
  {
   "cell_type": "markdown",
   "metadata": {},
   "source": [
    "### Завдання:"
   ]
  },
  {
   "cell_type": "code",
   "execution_count": 1,
   "metadata": {},
   "outputs": [],
   "source": [
    "import pandas as pd\n",
    "import numpy as np"
   ]
  },
  {
   "cell_type": "markdown",
   "metadata": {},
   "source": [
    "Вивести версію та конфігурацію бібліотеки:"
   ]
  },
  {
   "cell_type": "code",
   "execution_count": 2,
   "metadata": {},
   "outputs": [
    {
     "name": "stdout",
     "output_type": "stream",
     "text": [
      "1.2.4\n"
     ]
    }
   ],
   "source": [
    "print(pd.__version__)\n"
   ]
  },
  {
   "cell_type": "code",
   "execution_count": 3,
   "metadata": {},
   "outputs": [
    {
     "name": "stdout",
     "output_type": "stream",
     "text": [
      "Name: pandas\n",
      "Version: 1.2.4\n",
      "Summary: Powerful data structures for data analysis, time series, and statistics\n",
      "Home-page: https://pandas.pydata.org\n",
      "Author: None\n",
      "Author-email: None\n",
      "License: BSD\n",
      "Location: c:\\users\\lidao\\anaconda3\\lib\\site-packages\n",
      "Requires: python-dateutil, pytz, numpy\n",
      "Required-by: statsmodels, seaborn\n",
      "Note: you may need to restart the kernel to use updated packages.\n"
     ]
    }
   ],
   "source": [
    "pip show pandas"
   ]
  },
  {
   "cell_type": "code",
   "execution_count": 4,
   "metadata": {},
   "outputs": [],
   "source": [
    "df = pd.read_csv('Ecommerce Purchases')"
   ]
  },
  {
   "cell_type": "markdown",
   "metadata": {},
   "source": [
    "Скільки рядків і стовпців в наборі даних:"
   ]
  },
  {
   "cell_type": "code",
   "execution_count": 5,
   "metadata": {},
   "outputs": [
    {
     "data": {
      "text/plain": [
       "10000"
      ]
     },
     "execution_count": 5,
     "metadata": {},
     "output_type": "execute_result"
    }
   ],
   "source": [
    "len(df.index)"
   ]
  },
  {
   "cell_type": "code",
   "execution_count": 6,
   "metadata": {},
   "outputs": [
    {
     "data": {
      "text/plain": [
       "14"
      ]
     },
     "execution_count": 6,
     "metadata": {},
     "output_type": "execute_result"
    }
   ],
   "source": [
    "len(df.columns)"
   ]
  },
  {
   "cell_type": "markdown",
   "metadata": {},
   "source": [
    "Перевірити, чи в наборі даних містяться порожні значення:"
   ]
  },
  {
   "cell_type": "code",
   "execution_count": 7,
   "metadata": {},
   "outputs": [
    {
     "data": {
      "text/html": [
       "<div>\n",
       "<style scoped>\n",
       "    .dataframe tbody tr th:only-of-type {\n",
       "        vertical-align: middle;\n",
       "    }\n",
       "\n",
       "    .dataframe tbody tr th {\n",
       "        vertical-align: top;\n",
       "    }\n",
       "\n",
       "    .dataframe thead th {\n",
       "        text-align: right;\n",
       "    }\n",
       "</style>\n",
       "<table border=\"1\" class=\"dataframe\">\n",
       "  <thead>\n",
       "    <tr style=\"text-align: right;\">\n",
       "      <th></th>\n",
       "      <th>Address</th>\n",
       "      <th>Lot</th>\n",
       "      <th>AM or PM</th>\n",
       "      <th>Browser Info</th>\n",
       "      <th>Company</th>\n",
       "      <th>Credit Card</th>\n",
       "      <th>CC Exp Date</th>\n",
       "      <th>CC Security Code</th>\n",
       "      <th>CC Provider</th>\n",
       "      <th>Email</th>\n",
       "      <th>Job</th>\n",
       "      <th>IP Address</th>\n",
       "      <th>Language</th>\n",
       "      <th>Purchase Price</th>\n",
       "    </tr>\n",
       "  </thead>\n",
       "  <tbody>\n",
       "    <tr>\n",
       "      <th>0</th>\n",
       "      <td>False</td>\n",
       "      <td>False</td>\n",
       "      <td>False</td>\n",
       "      <td>False</td>\n",
       "      <td>False</td>\n",
       "      <td>False</td>\n",
       "      <td>False</td>\n",
       "      <td>False</td>\n",
       "      <td>False</td>\n",
       "      <td>False</td>\n",
       "      <td>False</td>\n",
       "      <td>False</td>\n",
       "      <td>False</td>\n",
       "      <td>False</td>\n",
       "    </tr>\n",
       "    <tr>\n",
       "      <th>1</th>\n",
       "      <td>False</td>\n",
       "      <td>False</td>\n",
       "      <td>False</td>\n",
       "      <td>False</td>\n",
       "      <td>False</td>\n",
       "      <td>False</td>\n",
       "      <td>False</td>\n",
       "      <td>False</td>\n",
       "      <td>False</td>\n",
       "      <td>False</td>\n",
       "      <td>False</td>\n",
       "      <td>False</td>\n",
       "      <td>False</td>\n",
       "      <td>False</td>\n",
       "    </tr>\n",
       "    <tr>\n",
       "      <th>2</th>\n",
       "      <td>False</td>\n",
       "      <td>False</td>\n",
       "      <td>False</td>\n",
       "      <td>False</td>\n",
       "      <td>False</td>\n",
       "      <td>False</td>\n",
       "      <td>False</td>\n",
       "      <td>False</td>\n",
       "      <td>False</td>\n",
       "      <td>False</td>\n",
       "      <td>False</td>\n",
       "      <td>False</td>\n",
       "      <td>False</td>\n",
       "      <td>False</td>\n",
       "    </tr>\n",
       "    <tr>\n",
       "      <th>3</th>\n",
       "      <td>False</td>\n",
       "      <td>False</td>\n",
       "      <td>False</td>\n",
       "      <td>False</td>\n",
       "      <td>False</td>\n",
       "      <td>False</td>\n",
       "      <td>False</td>\n",
       "      <td>False</td>\n",
       "      <td>False</td>\n",
       "      <td>False</td>\n",
       "      <td>False</td>\n",
       "      <td>False</td>\n",
       "      <td>False</td>\n",
       "      <td>False</td>\n",
       "    </tr>\n",
       "    <tr>\n",
       "      <th>4</th>\n",
       "      <td>False</td>\n",
       "      <td>False</td>\n",
       "      <td>False</td>\n",
       "      <td>False</td>\n",
       "      <td>False</td>\n",
       "      <td>False</td>\n",
       "      <td>False</td>\n",
       "      <td>False</td>\n",
       "      <td>False</td>\n",
       "      <td>False</td>\n",
       "      <td>False</td>\n",
       "      <td>False</td>\n",
       "      <td>False</td>\n",
       "      <td>False</td>\n",
       "    </tr>\n",
       "    <tr>\n",
       "      <th>...</th>\n",
       "      <td>...</td>\n",
       "      <td>...</td>\n",
       "      <td>...</td>\n",
       "      <td>...</td>\n",
       "      <td>...</td>\n",
       "      <td>...</td>\n",
       "      <td>...</td>\n",
       "      <td>...</td>\n",
       "      <td>...</td>\n",
       "      <td>...</td>\n",
       "      <td>...</td>\n",
       "      <td>...</td>\n",
       "      <td>...</td>\n",
       "      <td>...</td>\n",
       "    </tr>\n",
       "    <tr>\n",
       "      <th>9995</th>\n",
       "      <td>False</td>\n",
       "      <td>False</td>\n",
       "      <td>False</td>\n",
       "      <td>False</td>\n",
       "      <td>False</td>\n",
       "      <td>False</td>\n",
       "      <td>False</td>\n",
       "      <td>False</td>\n",
       "      <td>False</td>\n",
       "      <td>False</td>\n",
       "      <td>False</td>\n",
       "      <td>False</td>\n",
       "      <td>False</td>\n",
       "      <td>False</td>\n",
       "    </tr>\n",
       "    <tr>\n",
       "      <th>9996</th>\n",
       "      <td>False</td>\n",
       "      <td>False</td>\n",
       "      <td>False</td>\n",
       "      <td>False</td>\n",
       "      <td>False</td>\n",
       "      <td>False</td>\n",
       "      <td>False</td>\n",
       "      <td>False</td>\n",
       "      <td>False</td>\n",
       "      <td>False</td>\n",
       "      <td>False</td>\n",
       "      <td>False</td>\n",
       "      <td>False</td>\n",
       "      <td>False</td>\n",
       "    </tr>\n",
       "    <tr>\n",
       "      <th>9997</th>\n",
       "      <td>False</td>\n",
       "      <td>False</td>\n",
       "      <td>False</td>\n",
       "      <td>False</td>\n",
       "      <td>False</td>\n",
       "      <td>False</td>\n",
       "      <td>False</td>\n",
       "      <td>False</td>\n",
       "      <td>False</td>\n",
       "      <td>False</td>\n",
       "      <td>False</td>\n",
       "      <td>False</td>\n",
       "      <td>False</td>\n",
       "      <td>False</td>\n",
       "    </tr>\n",
       "    <tr>\n",
       "      <th>9998</th>\n",
       "      <td>False</td>\n",
       "      <td>False</td>\n",
       "      <td>False</td>\n",
       "      <td>False</td>\n",
       "      <td>False</td>\n",
       "      <td>False</td>\n",
       "      <td>False</td>\n",
       "      <td>False</td>\n",
       "      <td>False</td>\n",
       "      <td>False</td>\n",
       "      <td>False</td>\n",
       "      <td>False</td>\n",
       "      <td>False</td>\n",
       "      <td>False</td>\n",
       "    </tr>\n",
       "    <tr>\n",
       "      <th>9999</th>\n",
       "      <td>False</td>\n",
       "      <td>False</td>\n",
       "      <td>False</td>\n",
       "      <td>False</td>\n",
       "      <td>False</td>\n",
       "      <td>False</td>\n",
       "      <td>False</td>\n",
       "      <td>False</td>\n",
       "      <td>False</td>\n",
       "      <td>False</td>\n",
       "      <td>False</td>\n",
       "      <td>False</td>\n",
       "      <td>False</td>\n",
       "      <td>False</td>\n",
       "    </tr>\n",
       "  </tbody>\n",
       "</table>\n",
       "<p>10000 rows × 14 columns</p>\n",
       "</div>"
      ],
      "text/plain": [
       "      Address    Lot  AM or PM  Browser Info  Company  Credit Card  \\\n",
       "0       False  False     False         False    False        False   \n",
       "1       False  False     False         False    False        False   \n",
       "2       False  False     False         False    False        False   \n",
       "3       False  False     False         False    False        False   \n",
       "4       False  False     False         False    False        False   \n",
       "...       ...    ...       ...           ...      ...          ...   \n",
       "9995    False  False     False         False    False        False   \n",
       "9996    False  False     False         False    False        False   \n",
       "9997    False  False     False         False    False        False   \n",
       "9998    False  False     False         False    False        False   \n",
       "9999    False  False     False         False    False        False   \n",
       "\n",
       "      CC Exp Date  CC Security Code  CC Provider  Email    Job  IP Address  \\\n",
       "0           False             False        False  False  False       False   \n",
       "1           False             False        False  False  False       False   \n",
       "2           False             False        False  False  False       False   \n",
       "3           False             False        False  False  False       False   \n",
       "4           False             False        False  False  False       False   \n",
       "...           ...               ...          ...    ...    ...         ...   \n",
       "9995        False             False        False  False  False       False   \n",
       "9996        False             False        False  False  False       False   \n",
       "9997        False             False        False  False  False       False   \n",
       "9998        False             False        False  False  False       False   \n",
       "9999        False             False        False  False  False       False   \n",
       "\n",
       "      Language  Purchase Price  \n",
       "0        False           False  \n",
       "1        False           False  \n",
       "2        False           False  \n",
       "3        False           False  \n",
       "4        False           False  \n",
       "...        ...             ...  \n",
       "9995     False           False  \n",
       "9996     False           False  \n",
       "9997     False           False  \n",
       "9998     False           False  \n",
       "9999     False           False  \n",
       "\n",
       "[10000 rows x 14 columns]"
      ]
     },
     "execution_count": 7,
     "metadata": {},
     "output_type": "execute_result"
    }
   ],
   "source": [
    "df.isnull()"
   ]
  },
  {
   "cell_type": "markdown",
   "metadata": {},
   "source": [
    "Яка середня ціна закупки (Purchase Price):"
   ]
  },
  {
   "cell_type": "code",
   "execution_count": 8,
   "metadata": {},
   "outputs": [
    {
     "data": {
      "text/plain": [
       "50.34730200000025"
      ]
     },
     "execution_count": 8,
     "metadata": {},
     "output_type": "execute_result"
    }
   ],
   "source": [
    "df['Purchase Price'].mean()"
   ]
  },
  {
   "cell_type": "markdown",
   "metadata": {},
   "source": [
    "Скільки людей користуються англійською мовою \"en\" на веб-сайті:"
   ]
  },
  {
   "cell_type": "code",
   "execution_count": 9,
   "metadata": {},
   "outputs": [
    {
     "data": {
      "text/plain": [
       "1098"
      ]
     },
     "execution_count": 9,
     "metadata": {},
     "output_type": "execute_result"
    }
   ],
   "source": [
    "Eng = df['Language'] == 'en'\n",
    "Lng_Eng = df[Eng]\n",
    "len(Lng_Eng['Language'])"
   ]
  },
  {
   "cell_type": "markdown",
   "metadata": {},
   "source": [
    "Скільки людей має посаду «Lawyer»?"
   ]
  },
  {
   "cell_type": "code",
   "execution_count": 10,
   "metadata": {},
   "outputs": [
    {
     "data": {
      "text/plain": [
       "30"
      ]
     },
     "execution_count": 10,
     "metadata": {},
     "output_type": "execute_result"
    }
   ],
   "source": [
    "Lawyer =  df['Job'] == 'Lawyer'\n",
    "Prof = df[Lawyer]\n",
    "len(Prof['Job'])"
   ]
  },
  {
   "cell_type": "markdown",
   "metadata": {},
   "source": [
    "Скільки людей зробило покупку вранці та скільки людей зробило покупку після обіду?"
   ]
  },
  {
   "cell_type": "code",
   "execution_count": 11,
   "metadata": {},
   "outputs": [
    {
     "data": {
      "text/plain": [
       "4932"
      ]
     },
     "execution_count": 11,
     "metadata": {},
     "output_type": "execute_result"
    }
   ],
   "source": [
    "AM =  df['AM or PM'] == 'AM'\n",
    "Morning = df[AM]\n",
    "len(Morning['AM or PM'])"
   ]
  },
  {
   "cell_type": "code",
   "execution_count": 12,
   "metadata": {},
   "outputs": [
    {
     "data": {
      "text/plain": [
       "5068"
      ]
     },
     "execution_count": 12,
     "metadata": {},
     "output_type": "execute_result"
    }
   ],
   "source": [
    "PM =  df['AM or PM'] == 'PM'\n",
    "Evening = df[PM]\n",
    "len(Evening['AM or PM'])"
   ]
  },
  {
   "cell_type": "markdown",
   "metadata": {},
   "source": [
    "Які 5 найпоширеніших назв вакансій?"
   ]
  },
  {
   "cell_type": "code",
   "execution_count": 13,
   "metadata": {},
   "outputs": [
    {
     "data": {
      "text/plain": [
       "Interior and spatial designer    31\n",
       "Lawyer                           30\n",
       "Social researcher                28\n",
       "Purchasing manager               27\n",
       "Designer, jewellery              27\n",
       "Name: Job, dtype: int64"
      ]
     },
     "execution_count": 13,
     "metadata": {},
     "output_type": "execute_result"
    }
   ],
   "source": [
    "df['Job'].value_counts()[0:5]"
   ]
  },
  {
   "cell_type": "markdown",
   "metadata": {},
   "source": [
    "Хтось здійснив покупку, яка надійшла від Lot: \"90 Wt\", та якою була ціна придбання для цієї транзакції?"
   ]
  },
  {
   "cell_type": "code",
   "execution_count": 14,
   "metadata": {},
   "outputs": [
    {
     "data": {
      "text/html": [
       "<div>\n",
       "<style scoped>\n",
       "    .dataframe tbody tr th:only-of-type {\n",
       "        vertical-align: middle;\n",
       "    }\n",
       "\n",
       "    .dataframe tbody tr th {\n",
       "        vertical-align: top;\n",
       "    }\n",
       "\n",
       "    .dataframe thead th {\n",
       "        text-align: right;\n",
       "    }\n",
       "</style>\n",
       "<table border=\"1\" class=\"dataframe\">\n",
       "  <thead>\n",
       "    <tr style=\"text-align: right;\">\n",
       "      <th></th>\n",
       "      <th>Job</th>\n",
       "      <th>Purchase Price</th>\n",
       "    </tr>\n",
       "  </thead>\n",
       "  <tbody>\n",
       "  </tbody>\n",
       "</table>\n",
       "</div>"
      ],
      "text/plain": [
       "Empty DataFrame\n",
       "Columns: [Job, Purchase Price]\n",
       "Index: []"
      ]
     },
     "execution_count": 14,
     "metadata": {},
     "output_type": "execute_result"
    }
   ],
   "source": [
    "Case =  df['Lot'] == \"90 Wt\"\n",
    "dfcase = df[Case]\n",
    "dfcase[['Job','Purchase Price' ]]"
   ]
  },
  {
   "cell_type": "markdown",
   "metadata": {},
   "source": [
    "Яка електронна адреса особи з таким номером кредитної картки: 4926535242672853 ?"
   ]
  },
  {
   "cell_type": "code",
   "execution_count": 15,
   "metadata": {},
   "outputs": [
    {
     "data": {
      "text/plain": [
       "1234    bondellen@williams-garza.com\n",
       "Name: Email, dtype: object"
      ]
     },
     "execution_count": 15,
     "metadata": {},
     "output_type": "execute_result"
    }
   ],
   "source": [
    "Card = df['Credit Card'] == 4926535242672853\n",
    "dfcard = df[Card]\n",
    "dfcard['Email']"
   ]
  },
  {
   "cell_type": "markdown",
   "metadata": {},
   "source": [
    "Скільки людей використовує American Express  і здійснили покупку на суму понад 100 доларів?"
   ]
  },
  {
   "cell_type": "code",
   "execution_count": 16,
   "metadata": {},
   "outputs": [
    {
     "data": {
      "text/plain": [
       "99.97"
      ]
     },
     "execution_count": 16,
     "metadata": {},
     "output_type": "execute_result"
    }
   ],
   "source": [
    "Amexpr = df['CC Provider'] == 'American Express'\n",
    "dfAmexpr = df[Amexpr]\n",
    "dfAmexpr['Purchase Price'].max()\n",
    "        "
   ]
  },
  {
   "cell_type": "code",
   "execution_count": 17,
   "metadata": {},
   "outputs": [
    {
     "data": {
      "text/plain": [
       "0"
      ]
     },
     "execution_count": 17,
     "metadata": {},
     "output_type": "execute_result"
    }
   ],
   "source": [
    "filter_price = dfAmexpr['Purchase Price'] > 100\n",
    "len(dfAmexpr.loc[filter_price])    "
   ]
  },
  {
   "cell_type": "markdown",
   "metadata": {},
   "source": [
    "Скільки людей мають кредитну картку, термін дії якої закінчується в 2025 році?"
   ]
  },
  {
   "cell_type": "code",
   "execution_count": 18,
   "metadata": {},
   "outputs": [
    {
     "data": {
      "text/plain": [
       "1033"
      ]
     },
     "execution_count": 18,
     "metadata": {},
     "output_type": "execute_result"
    }
   ],
   "source": [
    "df['year_valid'] = df['CC Exp Date'].apply(lambda x: x.split('/')[1])\n",
    "Valid25 = df['year_valid'] == '25'\n",
    "dfValid = df[Valid25]\n",
    "len(dfValid.index)"
   ]
  },
  {
   "cell_type": "markdown",
   "metadata": {},
   "source": [
    "Які найкращі 5 найпопулярніших постачальників / хостів електронної пошти (наприклад, gmail.com, yahoo.com тощо ...)."
   ]
  },
  {
   "cell_type": "code",
   "execution_count": 19,
   "metadata": {},
   "outputs": [
    {
     "data": {
      "text/plain": [
       "hotmail.com     1638\n",
       "yahoo.com       1616\n",
       "gmail.com       1605\n",
       "smith.com         42\n",
       "williams.com      37\n",
       "Name: domain, dtype: int64"
      ]
     },
     "execution_count": 19,
     "metadata": {},
     "output_type": "execute_result"
    }
   ],
   "source": [
    "df['domain'] = df['Email'].apply(lambda x: x.split('@')[1])\n",
    "df['domain'].value_counts()[0:5]"
   ]
  },
  {
   "cell_type": "markdown",
   "metadata": {},
   "source": [
    "Виведіть зведену таблицю по браузерах(Browser Info), посаді(Job), та кількості транзакцій :"
   ]
  },
  {
   "cell_type": "code",
   "execution_count": 20,
   "metadata": {},
   "outputs": [
    {
     "data": {
      "text/plain": [
       "Browser Info                                                                                                                         Job                                  \n",
       "Mozilla/5.0 (Macintosh; Intel Mac OS X 10_5_0 rv:2.0; sl-SI) AppleWebKit/533.25.6 (KHTML, like Gecko) Version/4.0 Safari/533.25.6    Psychotherapist, dance movement          1\n",
       "Mozilla/5.0 (Macintosh; Intel Mac OS X 10_5_0 rv:4.0; en-US) AppleWebKit/535.34.7 (KHTML, like Gecko) Version/5.0 Safari/535.34.7    Retail merchandiser                      1\n",
       "Mozilla/5.0 (Macintosh; Intel Mac OS X 10_5_0 rv:5.0; sl-SI) AppleWebKit/532.10.4 (KHTML, like Gecko) Version/5.0.2 Safari/532.10.4  Firefighter                              1\n",
       "Mozilla/5.0 (Macintosh; Intel Mac OS X 10_5_0 rv:6.0; en-US) AppleWebKit/533.45.4 (KHTML, like Gecko) Version/4.1 Safari/533.45.4    Broadcast presenter                      1\n",
       "Mozilla/5.0 (Macintosh; Intel Mac OS X 10_5_0) AppleWebKit/5321 (KHTML, like Gecko) Chrome/14.0.824.0 Safari/5321                    Development worker, international aid    1\n",
       "                                                                                                                                                                             ..\n",
       "Opera/9.99.(X11; Linux i686; sl-SI) Presto/2.9.186 Version/12.00                                                                     Company secretary                        1\n",
       "Opera/9.99.(X11; Linux x86_64; en-US) Presto/2.9.172 Version/12.00                                                                   Dramatherapist                           1\n",
       "Opera/9.99.(X11; Linux x86_64; en-US) Presto/2.9.176 Version/10.00                                                                   Private music teacher                    1\n",
       "Opera/9.99.(X11; Linux x86_64; it-IT) Presto/2.9.164 Version/10.00                                                                   Hotel manager                            1\n",
       "Opera/9.99.(X11; Linux x86_64; it-IT) Presto/2.9.190 Version/11.00                                                                   Scientist, forensic                      1\n",
       "Name: Lot, Length: 9989, dtype: int64"
      ]
     },
     "execution_count": 20,
     "metadata": {},
     "output_type": "execute_result"
    }
   ],
   "source": [
    "df.groupby(['Browser Info', 'Job'])['Lot'].count()"
   ]
  },
  {
   "cell_type": "markdown",
   "metadata": {},
   "source": [
    "Створіть нову колонку \"Actual price\", яка утворюється із \"Purchase Price\" та націнки за принципом:\n",
    "- якщо \"Purchase Price\" > 50, націнка 20%\n",
    "- якщо \"Purchase Price\" > 100, націнка 10%\n",
    "- в інших випадках націнка 30%\n",
    "   "
   ]
  },
  {
   "cell_type": "code",
   "execution_count": 21,
   "metadata": {},
   "outputs": [],
   "source": [
    "conditions = [\n",
    "    (df['Purchase Price'] > 50),\n",
    "    (df['Purchase Price'] > 100),\n",
    "    (df['Purchase Price'] <= 50),\n",
    "    ]\n",
    "values = [\n",
    "    df['Purchase Price'] + df['Purchase Price'] * (2/10), \n",
    "    df['Purchase Price'] + df['Purchase Price'] * (1/10),\n",
    "    df['Purchase Price'] + df['Purchase Price'] * (3/10),\n",
    "     ]\n",
    "df['Actual price'] = np.select(conditions, values)\n"
   ]
  },
  {
   "cell_type": "markdown",
   "metadata": {},
   "source": [
    "Зробіть рангування набору даних по \"Language\" та \"Actual price\" в порядку спадання ціни.\n",
    "\n",
    "https://pandas.pydata.org/pandas-docs/stable/reference/api/pandas.DataFrame.rank.html"
   ]
  },
  {
   "cell_type": "code",
   "execution_count": 22,
   "metadata": {},
   "outputs": [
    {
     "data": {
      "text/html": [
       "<div>\n",
       "<style scoped>\n",
       "    .dataframe tbody tr th:only-of-type {\n",
       "        vertical-align: middle;\n",
       "    }\n",
       "\n",
       "    .dataframe tbody tr th {\n",
       "        vertical-align: top;\n",
       "    }\n",
       "\n",
       "    .dataframe thead th {\n",
       "        text-align: right;\n",
       "    }\n",
       "</style>\n",
       "<table border=\"1\" class=\"dataframe\">\n",
       "  <thead>\n",
       "    <tr style=\"text-align: right;\">\n",
       "      <th></th>\n",
       "      <th>Address</th>\n",
       "      <th>Lot</th>\n",
       "      <th>AM or PM</th>\n",
       "      <th>Browser Info</th>\n",
       "      <th>Company</th>\n",
       "      <th>Credit Card</th>\n",
       "      <th>CC Exp Date</th>\n",
       "      <th>CC Security Code</th>\n",
       "      <th>CC Provider</th>\n",
       "      <th>Email</th>\n",
       "      <th>Job</th>\n",
       "      <th>IP Address</th>\n",
       "      <th>Language</th>\n",
       "      <th>Purchase Price</th>\n",
       "      <th>year_valid</th>\n",
       "      <th>domain</th>\n",
       "      <th>Actual price</th>\n",
       "      <th>Rank</th>\n",
       "    </tr>\n",
       "  </thead>\n",
       "  <tbody>\n",
       "    <tr>\n",
       "      <th>4235</th>\n",
       "      <td>1479 Vazquez Motorway\\nNorth Mark, ME 98122</td>\n",
       "      <td>09 Pm</td>\n",
       "      <td>PM</td>\n",
       "      <td>Mozilla/5.0 (Windows; U; Windows CE) AppleWebK...</td>\n",
       "      <td>Taylor-Hernandez</td>\n",
       "      <td>4365348893985105</td>\n",
       "      <td>07/23</td>\n",
       "      <td>965</td>\n",
       "      <td>Maestro</td>\n",
       "      <td>tonya79@perez.com</td>\n",
       "      <td>Purchasing manager</td>\n",
       "      <td>140.36.137.61</td>\n",
       "      <td>zh</td>\n",
       "      <td>99.61</td>\n",
       "      <td>23</td>\n",
       "      <td>perez.com</td>\n",
       "      <td>119.532</td>\n",
       "      <td>1</td>\n",
       "    </tr>\n",
       "    <tr>\n",
       "      <th>6205</th>\n",
       "      <td>51591 Robinson Terrace Suite 057\\nLake Brendaf...</td>\n",
       "      <td>97 Cf</td>\n",
       "      <td>AM</td>\n",
       "      <td>Mozilla/5.0 (Macintosh; U; PPC Mac OS X 10_8_9...</td>\n",
       "      <td>Phillips LLC</td>\n",
       "      <td>676332128484</td>\n",
       "      <td>01/19</td>\n",
       "      <td>254</td>\n",
       "      <td>VISA 16 digit</td>\n",
       "      <td>dannyclark@hebert.org</td>\n",
       "      <td>Prison officer</td>\n",
       "      <td>94.22.150.127</td>\n",
       "      <td>zh</td>\n",
       "      <td>99.43</td>\n",
       "      <td>19</td>\n",
       "      <td>hebert.org</td>\n",
       "      <td>119.316</td>\n",
       "      <td>2</td>\n",
       "    </tr>\n",
       "    <tr>\n",
       "      <th>5498</th>\n",
       "      <td>PSC 6312, Box 6695\\nAPO AP 67868-1213</td>\n",
       "      <td>09 an</td>\n",
       "      <td>AM</td>\n",
       "      <td>Mozilla/5.0 (X11; Linux i686) AppleWebKit/5332...</td>\n",
       "      <td>Ferguson-Newman</td>\n",
       "      <td>3112374849244387</td>\n",
       "      <td>08/25</td>\n",
       "      <td>596</td>\n",
       "      <td>Maestro</td>\n",
       "      <td>devon84@yahoo.com</td>\n",
       "      <td>Systems analyst</td>\n",
       "      <td>27.227.251.250</td>\n",
       "      <td>zh</td>\n",
       "      <td>99.26</td>\n",
       "      <td>25</td>\n",
       "      <td>yahoo.com</td>\n",
       "      <td>119.112</td>\n",
       "      <td>3</td>\n",
       "    </tr>\n",
       "    <tr>\n",
       "      <th>7319</th>\n",
       "      <td>085 Lindsey Common\\nNorth Annefort, CA 34213-1469</td>\n",
       "      <td>17 Yb</td>\n",
       "      <td>PM</td>\n",
       "      <td>Mozilla/5.0 (iPod; U; CPU iPhone OS 4_1 like M...</td>\n",
       "      <td>Davis, Smith and Horn</td>\n",
       "      <td>4035283508505354</td>\n",
       "      <td>11/23</td>\n",
       "      <td>388</td>\n",
       "      <td>Diners Club / Carte Blanche</td>\n",
       "      <td>brownsarah@gmail.com</td>\n",
       "      <td>Animator</td>\n",
       "      <td>70.85.86.203</td>\n",
       "      <td>zh</td>\n",
       "      <td>99.12</td>\n",
       "      <td>23</td>\n",
       "      <td>gmail.com</td>\n",
       "      <td>118.944</td>\n",
       "      <td>4</td>\n",
       "    </tr>\n",
       "    <tr>\n",
       "      <th>8951</th>\n",
       "      <td>807 Veronica Greens Apt. 643\\nWest Joelstad, W...</td>\n",
       "      <td>22 Pj</td>\n",
       "      <td>PM</td>\n",
       "      <td>Mozilla/5.0 (X11; Linux x86_64; rv:1.9.7.20) G...</td>\n",
       "      <td>Simon-Brown</td>\n",
       "      <td>6011933482559693</td>\n",
       "      <td>03/25</td>\n",
       "      <td>362</td>\n",
       "      <td>Voyager</td>\n",
       "      <td>yrios@bryant-lawson.com</td>\n",
       "      <td>Engineer, manufacturing</td>\n",
       "      <td>225.18.186.10</td>\n",
       "      <td>zh</td>\n",
       "      <td>98.98</td>\n",
       "      <td>25</td>\n",
       "      <td>bryant-lawson.com</td>\n",
       "      <td>118.776</td>\n",
       "      <td>5</td>\n",
       "    </tr>\n",
       "    <tr>\n",
       "      <th>...</th>\n",
       "      <td>...</td>\n",
       "      <td>...</td>\n",
       "      <td>...</td>\n",
       "      <td>...</td>\n",
       "      <td>...</td>\n",
       "      <td>...</td>\n",
       "      <td>...</td>\n",
       "      <td>...</td>\n",
       "      <td>...</td>\n",
       "      <td>...</td>\n",
       "      <td>...</td>\n",
       "      <td>...</td>\n",
       "      <td>...</td>\n",
       "      <td>...</td>\n",
       "      <td>...</td>\n",
       "      <td>...</td>\n",
       "      <td>...</td>\n",
       "      <td>...</td>\n",
       "    </tr>\n",
       "    <tr>\n",
       "      <th>4362</th>\n",
       "      <td>35839 Harding Cliff\\nNorth Nancy, KY 69599</td>\n",
       "      <td>45 yU</td>\n",
       "      <td>PM</td>\n",
       "      <td>Mozilla/5.0 (X11; Linux x86_64; rv:1.9.5.20) G...</td>\n",
       "      <td>Carpenter and Sons</td>\n",
       "      <td>4197785582926169</td>\n",
       "      <td>07/26</td>\n",
       "      <td>6639</td>\n",
       "      <td>Discover</td>\n",
       "      <td>ryandaniel@bird-mckinney.com</td>\n",
       "      <td>International aid/development worker</td>\n",
       "      <td>108.226.212.60</td>\n",
       "      <td>de</td>\n",
       "      <td>0.49</td>\n",
       "      <td>26</td>\n",
       "      <td>bird-mckinney.com</td>\n",
       "      <td>0.637</td>\n",
       "      <td>9495</td>\n",
       "    </tr>\n",
       "    <tr>\n",
       "      <th>8429</th>\n",
       "      <td>Unit 4027 Box 0841\\nDPO AA 66939-4398</td>\n",
       "      <td>69 ro</td>\n",
       "      <td>AM</td>\n",
       "      <td>Mozilla/5.0 (Windows NT 6.0) AppleWebKit/5361 ...</td>\n",
       "      <td>Aguilar-Jones</td>\n",
       "      <td>4517471815158</td>\n",
       "      <td>06/18</td>\n",
       "      <td>838</td>\n",
       "      <td>JCB 16 digit</td>\n",
       "      <td>cunninghamemily@hotmail.com</td>\n",
       "      <td>Development worker, international aid</td>\n",
       "      <td>249.9.4.137</td>\n",
       "      <td>de</td>\n",
       "      <td>0.41</td>\n",
       "      <td>18</td>\n",
       "      <td>hotmail.com</td>\n",
       "      <td>0.533</td>\n",
       "      <td>9496</td>\n",
       "    </tr>\n",
       "    <tr>\n",
       "      <th>1154</th>\n",
       "      <td>58903 Tammy Knolls Suite 270\\nBryantbury, VA 4...</td>\n",
       "      <td>34 PH</td>\n",
       "      <td>AM</td>\n",
       "      <td>Mozilla/5.0 (Macintosh; Intel Mac OS X 10_5_6 ...</td>\n",
       "      <td>Williams-Torres</td>\n",
       "      <td>30250854692733</td>\n",
       "      <td>05/26</td>\n",
       "      <td>976</td>\n",
       "      <td>JCB 16 digit</td>\n",
       "      <td>kylefrost@hancock.org</td>\n",
       "      <td>Systems developer</td>\n",
       "      <td>69.174.252.220</td>\n",
       "      <td>de</td>\n",
       "      <td>0.20</td>\n",
       "      <td>26</td>\n",
       "      <td>hancock.org</td>\n",
       "      <td>0.260</td>\n",
       "      <td>9497</td>\n",
       "    </tr>\n",
       "    <tr>\n",
       "      <th>550</th>\n",
       "      <td>Unit 9279 Box 5039\\nDPO AP 86638</td>\n",
       "      <td>40 Ai</td>\n",
       "      <td>PM</td>\n",
       "      <td>Mozilla/5.0 (Macintosh; Intel Mac OS X 10_8_1;...</td>\n",
       "      <td>Roberts LLC</td>\n",
       "      <td>180054117657378</td>\n",
       "      <td>01/25</td>\n",
       "      <td>304</td>\n",
       "      <td>Voyager</td>\n",
       "      <td>heatherpham@hotmail.com</td>\n",
       "      <td>Research officer, government</td>\n",
       "      <td>118.191.31.116</td>\n",
       "      <td>de</td>\n",
       "      <td>0.03</td>\n",
       "      <td>25</td>\n",
       "      <td>hotmail.com</td>\n",
       "      <td>0.039</td>\n",
       "      <td>9498</td>\n",
       "    </tr>\n",
       "    <tr>\n",
       "      <th>2783</th>\n",
       "      <td>402 Joseph Tunnel Apt. 219\\nMartinmouth, DE 58480</td>\n",
       "      <td>46 Yg</td>\n",
       "      <td>AM</td>\n",
       "      <td>Mozilla/5.0 (Macintosh; U; Intel Mac OS X 10_7...</td>\n",
       "      <td>Wagner Group</td>\n",
       "      <td>4720459683484280</td>\n",
       "      <td>08/21</td>\n",
       "      <td>866</td>\n",
       "      <td>Mastercard</td>\n",
       "      <td>emilypotter@yahoo.com</td>\n",
       "      <td>IT trainer</td>\n",
       "      <td>69.92.84.253</td>\n",
       "      <td>de</td>\n",
       "      <td>0.02</td>\n",
       "      <td>21</td>\n",
       "      <td>yahoo.com</td>\n",
       "      <td>0.026</td>\n",
       "      <td>9499</td>\n",
       "    </tr>\n",
       "  </tbody>\n",
       "</table>\n",
       "<p>10000 rows × 18 columns</p>\n",
       "</div>"
      ],
      "text/plain": [
       "                                                Address    Lot AM or PM  \\\n",
       "4235        1479 Vazquez Motorway\\nNorth Mark, ME 98122  09 Pm       PM   \n",
       "6205  51591 Robinson Terrace Suite 057\\nLake Brendaf...  97 Cf       AM   \n",
       "5498              PSC 6312, Box 6695\\nAPO AP 67868-1213  09 an       AM   \n",
       "7319  085 Lindsey Common\\nNorth Annefort, CA 34213-1469  17 Yb       PM   \n",
       "8951  807 Veronica Greens Apt. 643\\nWest Joelstad, W...  22 Pj       PM   \n",
       "...                                                 ...    ...      ...   \n",
       "4362         35839 Harding Cliff\\nNorth Nancy, KY 69599  45 yU       PM   \n",
       "8429              Unit 4027 Box 0841\\nDPO AA 66939-4398  69 ro       AM   \n",
       "1154  58903 Tammy Knolls Suite 270\\nBryantbury, VA 4...  34 PH       AM   \n",
       "550                    Unit 9279 Box 5039\\nDPO AP 86638  40 Ai       PM   \n",
       "2783  402 Joseph Tunnel Apt. 219\\nMartinmouth, DE 58480  46 Yg       AM   \n",
       "\n",
       "                                           Browser Info  \\\n",
       "4235  Mozilla/5.0 (Windows; U; Windows CE) AppleWebK...   \n",
       "6205  Mozilla/5.0 (Macintosh; U; PPC Mac OS X 10_8_9...   \n",
       "5498  Mozilla/5.0 (X11; Linux i686) AppleWebKit/5332...   \n",
       "7319  Mozilla/5.0 (iPod; U; CPU iPhone OS 4_1 like M...   \n",
       "8951  Mozilla/5.0 (X11; Linux x86_64; rv:1.9.7.20) G...   \n",
       "...                                                 ...   \n",
       "4362  Mozilla/5.0 (X11; Linux x86_64; rv:1.9.5.20) G...   \n",
       "8429  Mozilla/5.0 (Windows NT 6.0) AppleWebKit/5361 ...   \n",
       "1154  Mozilla/5.0 (Macintosh; Intel Mac OS X 10_5_6 ...   \n",
       "550   Mozilla/5.0 (Macintosh; Intel Mac OS X 10_8_1;...   \n",
       "2783  Mozilla/5.0 (Macintosh; U; Intel Mac OS X 10_7...   \n",
       "\n",
       "                    Company       Credit Card CC Exp Date  CC Security Code  \\\n",
       "4235       Taylor-Hernandez  4365348893985105       07/23               965   \n",
       "6205           Phillips LLC      676332128484       01/19               254   \n",
       "5498        Ferguson-Newman  3112374849244387       08/25               596   \n",
       "7319  Davis, Smith and Horn  4035283508505354       11/23               388   \n",
       "8951            Simon-Brown  6011933482559693       03/25               362   \n",
       "...                     ...               ...         ...               ...   \n",
       "4362     Carpenter and Sons  4197785582926169       07/26              6639   \n",
       "8429          Aguilar-Jones     4517471815158       06/18               838   \n",
       "1154        Williams-Torres    30250854692733       05/26               976   \n",
       "550             Roberts LLC   180054117657378       01/25               304   \n",
       "2783           Wagner Group  4720459683484280       08/21               866   \n",
       "\n",
       "                      CC Provider                         Email  \\\n",
       "4235                      Maestro             tonya79@perez.com   \n",
       "6205                VISA 16 digit         dannyclark@hebert.org   \n",
       "5498                      Maestro             devon84@yahoo.com   \n",
       "7319  Diners Club / Carte Blanche          brownsarah@gmail.com   \n",
       "8951                      Voyager       yrios@bryant-lawson.com   \n",
       "...                           ...                           ...   \n",
       "4362                     Discover  ryandaniel@bird-mckinney.com   \n",
       "8429                 JCB 16 digit   cunninghamemily@hotmail.com   \n",
       "1154                 JCB 16 digit         kylefrost@hancock.org   \n",
       "550                       Voyager       heatherpham@hotmail.com   \n",
       "2783                   Mastercard         emilypotter@yahoo.com   \n",
       "\n",
       "                                        Job      IP Address Language  \\\n",
       "4235                     Purchasing manager   140.36.137.61       zh   \n",
       "6205                         Prison officer   94.22.150.127       zh   \n",
       "5498                        Systems analyst  27.227.251.250       zh   \n",
       "7319                               Animator    70.85.86.203       zh   \n",
       "8951                Engineer, manufacturing   225.18.186.10       zh   \n",
       "...                                     ...             ...      ...   \n",
       "4362   International aid/development worker  108.226.212.60       de   \n",
       "8429  Development worker, international aid     249.9.4.137       de   \n",
       "1154                      Systems developer  69.174.252.220       de   \n",
       "550            Research officer, government  118.191.31.116       de   \n",
       "2783                             IT trainer    69.92.84.253       de   \n",
       "\n",
       "      Purchase Price year_valid             domain  Actual price  Rank  \n",
       "4235           99.61         23          perez.com       119.532     1  \n",
       "6205           99.43         19         hebert.org       119.316     2  \n",
       "5498           99.26         25          yahoo.com       119.112     3  \n",
       "7319           99.12         23          gmail.com       118.944     4  \n",
       "8951           98.98         25  bryant-lawson.com       118.776     5  \n",
       "...              ...        ...                ...           ...   ...  \n",
       "4362            0.49         26  bird-mckinney.com         0.637  9495  \n",
       "8429            0.41         18        hotmail.com         0.533  9496  \n",
       "1154            0.20         26        hancock.org         0.260  9497  \n",
       "550             0.03         25        hotmail.com         0.039  9498  \n",
       "2783            0.02         21          yahoo.com         0.026  9499  \n",
       "\n",
       "[10000 rows x 18 columns]"
      ]
     },
     "execution_count": 22,
     "metadata": {},
     "output_type": "execute_result"
    }
   ],
   "source": [
    "df[\"Rank\"] = df[[\"Language\", \"Actual price\"]].apply(tuple,axis=1)\\\n",
    "             .rank(method='dense',ascending=False).astype(int)\n",
    "\n",
    "df.sort_values(\"Rank\")"
   ]
  },
  {
   "cell_type": "markdown",
   "metadata": {},
   "source": [
    "Колонку \"Language\" (категоріальна змінна) \"закодуйте\", тобто утворити індикаторні колоник. В наборі не повинна залишитися колонка \"Language\".\n",
    "\n",
    "https://pandas.pydata.org/pandas-docs/stable/reference/api/pandas.DataFrame.rank.html"
   ]
  },
  {
   "cell_type": "code",
   "execution_count": 23,
   "metadata": {},
   "outputs": [],
   "source": [
    "df['Language'] = df['Language'].rank(method='dense',ascending=True).astype(int)"
   ]
  },
  {
   "cell_type": "code",
   "execution_count": 25,
   "metadata": {},
   "outputs": [
    {
     "data": {
      "text/html": [
       "<div>\n",
       "<style scoped>\n",
       "    .dataframe tbody tr th:only-of-type {\n",
       "        vertical-align: middle;\n",
       "    }\n",
       "\n",
       "    .dataframe tbody tr th {\n",
       "        vertical-align: top;\n",
       "    }\n",
       "\n",
       "    .dataframe thead th {\n",
       "        text-align: right;\n",
       "    }\n",
       "</style>\n",
       "<table border=\"1\" class=\"dataframe\">\n",
       "  <thead>\n",
       "    <tr style=\"text-align: right;\">\n",
       "      <th></th>\n",
       "      <th>Address</th>\n",
       "      <th>Lot</th>\n",
       "      <th>AM or PM</th>\n",
       "      <th>Browser Info</th>\n",
       "      <th>Company</th>\n",
       "      <th>Credit Card</th>\n",
       "      <th>CC Exp Date</th>\n",
       "      <th>CC Security Code</th>\n",
       "      <th>CC Provider</th>\n",
       "      <th>Email</th>\n",
       "      <th>Job</th>\n",
       "      <th>IP Address</th>\n",
       "      <th>LngId</th>\n",
       "      <th>Purchase Price</th>\n",
       "      <th>year_valid</th>\n",
       "      <th>domain</th>\n",
       "      <th>Actual price</th>\n",
       "      <th>Rank</th>\n",
       "    </tr>\n",
       "  </thead>\n",
       "  <tbody>\n",
       "    <tr>\n",
       "      <th>0</th>\n",
       "      <td>16629 Pace Camp Apt. 448\\nAlexisborough, NE 77...</td>\n",
       "      <td>46 in</td>\n",
       "      <td>PM</td>\n",
       "      <td>Opera/9.56.(X11; Linux x86_64; sl-SI) Presto/2...</td>\n",
       "      <td>Martinez-Herman</td>\n",
       "      <td>6011929061123406</td>\n",
       "      <td>02/20</td>\n",
       "      <td>900</td>\n",
       "      <td>JCB 16 digit</td>\n",
       "      <td>pdunlap@yahoo.com</td>\n",
       "      <td>Scientist, product/process development</td>\n",
       "      <td>149.146.147.205</td>\n",
       "      <td>2</td>\n",
       "      <td>98.14</td>\n",
       "      <td>20</td>\n",
       "      <td>yahoo.com</td>\n",
       "      <td>117.768</td>\n",
       "      <td>7367</td>\n",
       "    </tr>\n",
       "    <tr>\n",
       "      <th>1</th>\n",
       "      <td>9374 Jasmine Spurs Suite 508\\nSouth John, TN 8...</td>\n",
       "      <td>28 rn</td>\n",
       "      <td>PM</td>\n",
       "      <td>Opera/8.93.(Windows 98; Win 9x 4.90; en-US) Pr...</td>\n",
       "      <td>Fletcher, Richards and Whitaker</td>\n",
       "      <td>3337758169645356</td>\n",
       "      <td>11/18</td>\n",
       "      <td>561</td>\n",
       "      <td>Mastercard</td>\n",
       "      <td>anthony41@reed.com</td>\n",
       "      <td>Drilling engineer</td>\n",
       "      <td>15.160.41.51</td>\n",
       "      <td>5</td>\n",
       "      <td>70.73</td>\n",
       "      <td>18</td>\n",
       "      <td>reed.com</td>\n",
       "      <td>84.876</td>\n",
       "      <td>4500</td>\n",
       "    </tr>\n",
       "  </tbody>\n",
       "</table>\n",
       "</div>"
      ],
      "text/plain": [
       "                                             Address    Lot AM or PM  \\\n",
       "0  16629 Pace Camp Apt. 448\\nAlexisborough, NE 77...  46 in       PM   \n",
       "1  9374 Jasmine Spurs Suite 508\\nSouth John, TN 8...  28 rn       PM   \n",
       "\n",
       "                                        Browser Info  \\\n",
       "0  Opera/9.56.(X11; Linux x86_64; sl-SI) Presto/2...   \n",
       "1  Opera/8.93.(Windows 98; Win 9x 4.90; en-US) Pr...   \n",
       "\n",
       "                           Company       Credit Card CC Exp Date  \\\n",
       "0                  Martinez-Herman  6011929061123406       02/20   \n",
       "1  Fletcher, Richards and Whitaker  3337758169645356       11/18   \n",
       "\n",
       "   CC Security Code   CC Provider               Email  \\\n",
       "0               900  JCB 16 digit   pdunlap@yahoo.com   \n",
       "1               561    Mastercard  anthony41@reed.com   \n",
       "\n",
       "                                      Job       IP Address  LngId  \\\n",
       "0  Scientist, product/process development  149.146.147.205      2   \n",
       "1                       Drilling engineer     15.160.41.51      5   \n",
       "\n",
       "   Purchase Price year_valid     domain  Actual price  Rank  \n",
       "0           98.14         20  yahoo.com       117.768  7367  \n",
       "1           70.73         18   reed.com        84.876  4500  "
      ]
     },
     "execution_count": 25,
     "metadata": {},
     "output_type": "execute_result"
    }
   ],
   "source": [
    "df.rename(\n",
    "    columns=({ 'Language': 'LngId'}), \n",
    "    inplace=True,\n",
    ")\n",
    "df.head(2)"
   ]
  },
  {
   "cell_type": "markdown",
   "metadata": {},
   "source": [
    "Кінцевий набір даних збережіть у файл з розширенням csv."
   ]
  },
  {
   "cell_type": "code",
   "execution_count": 36,
   "metadata": {},
   "outputs": [],
   "source": [
    "df.to_csv('Ecommerce Purchases N.cvs', index=False, header=True)"
   ]
  }
 ],
 "metadata": {
  "kernelspec": {
   "display_name": "Python 3",
   "language": "python",
   "name": "python3"
  },
  "language_info": {
   "codemirror_mode": {
    "name": "ipython",
    "version": 3
   },
   "file_extension": ".py",
   "mimetype": "text/x-python",
   "name": "python",
   "nbconvert_exporter": "python",
   "pygments_lexer": "ipython3",
   "version": "3.8.8"
  }
 },
 "nbformat": 4,
 "nbformat_minor": 2
}
