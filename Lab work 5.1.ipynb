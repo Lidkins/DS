{
 "cells": [
  {
   "cell_type": "markdown",
   "metadata": {},
   "source": [
    "___\n",
    "\n",
    "<a href='https://mainacademy.ua/'> <img src='https://mainacademy.ua/wp-content/uploads/2019/03/logo-main.png' alt = 'Хмм, щось з інтернетом'/></a>\n",
    "___\n",
    "\n",
    "# Module 5: Data analysis with NumPy and Pandas"
   ]
  },
  {
   "cell_type": "markdown",
   "metadata": {},
   "source": [
    "## Lab work 5.1\n",
    "\n"
   ]
  },
  {
   "cell_type": "markdown",
   "metadata": {},
   "source": [
    "#### Мета: \n",
    "\n",
    "* навчитися працювати із бібліотекою NumPy в Python"
   ]
  },
  {
   "cell_type": "markdown",
   "metadata": {},
   "source": [
    "### Завдання:"
   ]
  },
  {
   "cell_type": "code",
   "execution_count": null,
   "metadata": {},
   "outputs": [],
   "source": [
    "import numpy as np"
   ]
  },
  {
   "cell_type": "markdown",
   "metadata": {},
   "source": [
    "Вивести версію та конфігурацію бібліотеки:"
   ]
  },
  {
   "cell_type": "code",
   "execution_count": 2,
   "metadata": {},
   "outputs": [
    {
     "name": "stdout",
     "output_type": "stream",
     "text": [
      "1.20.1\n",
      "blas_mkl_info:\n",
      "    libraries = ['mkl_rt']\n",
      "    library_dirs = ['C:/Users/lidao/anaconda3\\\\Library\\\\lib']\n",
      "    define_macros = [('SCIPY_MKL_H', None), ('HAVE_CBLAS', None)]\n",
      "    include_dirs = ['C:/Users/lidao/anaconda3\\\\Library\\\\include']\n",
      "blas_opt_info:\n",
      "    libraries = ['mkl_rt']\n",
      "    library_dirs = ['C:/Users/lidao/anaconda3\\\\Library\\\\lib']\n",
      "    define_macros = [('SCIPY_MKL_H', None), ('HAVE_CBLAS', None)]\n",
      "    include_dirs = ['C:/Users/lidao/anaconda3\\\\Library\\\\include']\n",
      "lapack_mkl_info:\n",
      "    libraries = ['mkl_rt']\n",
      "    library_dirs = ['C:/Users/lidao/anaconda3\\\\Library\\\\lib']\n",
      "    define_macros = [('SCIPY_MKL_H', None), ('HAVE_CBLAS', None)]\n",
      "    include_dirs = ['C:/Users/lidao/anaconda3\\\\Library\\\\include']\n",
      "lapack_opt_info:\n",
      "    libraries = ['mkl_rt']\n",
      "    library_dirs = ['C:/Users/lidao/anaconda3\\\\Library\\\\lib']\n",
      "    define_macros = [('SCIPY_MKL_H', None), ('HAVE_CBLAS', None)]\n",
      "    include_dirs = ['C:/Users/lidao/anaconda3\\\\Library\\\\include']\n",
      "None\n"
     ]
    }
   ],
   "source": [
    "import numpy \n",
    "print(numpy.__version__)\n",
    "print(numpy.show_config())"
   ]
  },
  {
   "cell_type": "markdown",
   "metadata": {},
   "source": [
    "Створити вектор з 10 елементів, заповнений одиницями:"
   ]
  },
  {
   "cell_type": "code",
   "execution_count": 5,
   "metadata": {},
   "outputs": [
    {
     "name": "stdout",
     "output_type": "stream",
     "text": [
      "[[1. 1. 1. 1. 1. 1. 1. 1. 1. 1.]]\n"
     ]
    }
   ],
   "source": [
    "import numpy as np\n",
    "Z = np.ones((1, 10))\n",
    "print(Z)"
   ]
  },
  {
   "cell_type": "markdown",
   "metadata": {},
   "source": [
    "Створити вектор із значеннями від 0 до 10:"
   ]
  },
  {
   "cell_type": "code",
   "execution_count": 8,
   "metadata": {},
   "outputs": [
    {
     "name": "stdout",
     "output_type": "stream",
     "text": [
      "[ 0  1  2  3  4  5  6  7  8  9 10]\n"
     ]
    }
   ],
   "source": [
    "import numpy as np\n",
    "Z = np.arange(0, 11, 1)\n",
    "print(Z)"
   ]
  },
  {
   "cell_type": "markdown",
   "metadata": {},
   "source": [
    "Створити матрицю 5 на 5, заповнену нулями:"
   ]
  },
  {
   "cell_type": "code",
   "execution_count": 10,
   "metadata": {},
   "outputs": [
    {
     "name": "stdout",
     "output_type": "stream",
     "text": [
      "[[0. 0. 0. 0. 0.]\n",
      " [0. 0. 0. 0. 0.]\n",
      " [0. 0. 0. 0. 0.]\n",
      " [0. 0. 0. 0. 0.]\n",
      " [0. 0. 0. 0. 0.]]\n"
     ]
    }
   ],
   "source": [
    "import numpy as np\n",
    "Z = np.zeros((5, 5))\n",
    "print(Z)"
   ]
  },
  {
   "cell_type": "markdown",
   "metadata": {},
   "source": [
    "Заповнити вектор з 20 елементів випадковими цілими числами. Знайти індекси ненульових елементів:"
   ]
  },
  {
   "cell_type": "code",
   "execution_count": 54,
   "metadata": {},
   "outputs": [
    {
     "name": "stdout",
     "output_type": "stream",
     "text": [
      "[[ 1  5  8  9 13  9 16 11  5 10 14 19 13  8  0 13  7 12  6  0]]\n",
      "Ненульомі елементи мають індекси розмыщены у другому array: (array([0, 0, 0, 0, 0, 0, 0, 0, 0, 0, 0, 0, 0, 0, 0, 0, 0, 0], dtype=int64), array([ 0,  1,  2,  3,  4,  5,  6,  7,  8,  9, 10, 11, 12, 13, 15, 16, 17,\n",
      "       18], dtype=int64))\n"
     ]
    }
   ],
   "source": [
    "import numpy as np\n",
    "Z = np.random.randint(0, 20, (1, 20))\n",
    "\n",
    "print(Z)\n",
    "Y = np.where((Z!=0))\n",
    "print(\"Ненульомі елементи мають індекси розміщені у другому array:\", Y )"
   ]
  },
  {
   "cell_type": "markdown",
   "metadata": {},
   "source": [
    "Для вектора із попередньої задачі знайти середнє значення, медіану, стандартне відхилення:"
   ]
  },
  {
   "cell_type": "code",
   "execution_count": 57,
   "metadata": {},
   "outputs": [
    {
     "name": "stdout",
     "output_type": "stream",
     "text": [
      "Середнє значення: 10.9\n",
      "Медіана: 11.5\n",
      "Стандартне відхилення: 5.356304696336832\n"
     ]
    }
   ],
   "source": [
    "import numpy as np\n",
    "Z = np.random.randint(0, 20, (1, 20))\n",
    "Mn = np.mean(Z)\n",
    "Md = np.median(Z)\n",
    "Std = np.std(Z)\n",
    "print('Середнє значення:', Mn)\n",
    "print('Медіана:', Md)\n",
    "print('Стандартне відхилення:', Std)"
   ]
  },
  {
   "cell_type": "markdown",
   "metadata": {},
   "source": [
    "Створити дві матриці випадкових чисел розміром 4х2 та 2х2. Перемножити їх:"
   ]
  },
  {
   "cell_type": "code",
   "execution_count": 156,
   "metadata": {},
   "outputs": [
    {
     "name": "stdout",
     "output_type": "stream",
     "text": [
      "[[0.53848762 0.72721244]\n",
      " [0.23215561 0.3049787 ]\n",
      " [0.65783321 0.94548604]\n",
      " [0.53735944 0.64760702]]\n"
     ]
    }
   ],
   "source": [
    "import numpy as np\n",
    "Z = np.random.random((4, 2))\n",
    "Y = np.random.random((2, 2))\n",
    "Q = np.dot(Z, Y)\n",
    "print(Q)\n"
   ]
  },
  {
   "cell_type": "markdown",
   "metadata": {},
   "source": [
    "Результуючу матрицю із попередньої задачі перетворити у вектор. Знайти мінімальне та максимальне значення. \n",
    "\n",
    "Максимальне значення замінити на 0:"
   ]
  },
  {
   "cell_type": "code",
   "execution_count": 157,
   "metadata": {},
   "outputs": [
    {
     "name": "stdout",
     "output_type": "stream",
     "text": [
      "[0.53848762 0.72721244 0.23215561 0.3049787  0.65783321 0.94548604\n",
      " 0.53735944 0.64760702]\n",
      "Максимальне значення: 0.9454860390265115 Мінімальне значення: 0.23215560701034063\n",
      "Матриця з заміненим максимальним значенням: [0.53848762 0.72721244 0.23215561 0.3049787  0.65783321 0.\n",
      " 0.53735944 0.64760702]\n"
     ]
    }
   ],
   "source": [
    "A = np.reshape(Q, -1)\n",
    "print(A)\n",
    "Max =np.max(A)\n",
    "Min = np.min(A)\n",
    "inx = np.where((A == np.max(A)))\n",
    "A[inx] = 0\n",
    "print('Максимальне значення:', Max, 'Мінімальне значення:', Min)\n",
    "print('Матриця з заміненим максимальним значенням:',A)"
   ]
  },
  {
   "cell_type": "markdown",
   "metadata": {},
   "source": [
    "Знайдіть кореляцію першого рядка матриці із попереднього завдання із іншими рядками:"
   ]
  },
  {
   "cell_type": "code",
   "execution_count": 127,
   "metadata": {},
   "outputs": [],
   "source": [
    "B, C, D, E = np.vsplit(Q, 4)\n"
   ]
  },
  {
   "cell_type": "code",
   "execution_count": 128,
   "metadata": {},
   "outputs": [
    {
     "name": "stdout",
     "output_type": "stream",
     "text": [
      "Кореляція першого і другого рядка [[ 1. -1.]\n",
      " [-1.  1.]]\n",
      "Кореляція першого і третього рядка [[1. 1.]\n",
      " [1. 1.]]\n",
      "Кореляція першого і четвертого рядка [[1. 1.]\n",
      " [1. 1.]]\n"
     ]
    }
   ],
   "source": [
    "K = np.corrcoef(B, C)\n",
    "L = np.corrcoef(B, D)\n",
    "M = np.corrcoef(B, E)\n",
    "print('Кореляція першого і другого рядка', K)\n",
    "print('Кореляція першого і третього рядка', L)\n",
    "print('Кореляція першого і четвертого рядка', M)"
   ]
  },
  {
   "cell_type": "markdown",
   "metadata": {},
   "source": [
    "Дано матрицю. Знайти ранг матриці:"
   ]
  },
  {
   "cell_type": "code",
   "execution_count": 133,
   "metadata": {},
   "outputs": [
    {
     "data": {
      "text/plain": [
       "3"
      ]
     },
     "execution_count": 133,
     "metadata": {},
     "output_type": "execute_result"
    }
   ],
   "source": [
    "a = np.array([[ 1,  4, 5],\n",
    "              [7, 3, 2],\n",
    "              [9, 16, 1]])\n",
    "\n",
    "np.linalg.matrix_rank(a)"
   ]
  },
  {
   "cell_type": "markdown",
   "metadata": {},
   "source": [
    "Знайти визначник матриці:"
   ]
  },
  {
   "cell_type": "code",
   "execution_count": 134,
   "metadata": {},
   "outputs": [
    {
     "data": {
      "text/plain": [
       "440.0000000000002"
      ]
     },
     "execution_count": 134,
     "metadata": {},
     "output_type": "execute_result"
    }
   ],
   "source": [
    "np.linalg.det(a) "
   ]
  },
  {
   "cell_type": "markdown",
   "metadata": {},
   "source": [
    "Знайти власні значення та власні вектори матриці: "
   ]
  },
  {
   "cell_type": "code",
   "execution_count": 135,
   "metadata": {},
   "outputs": [
    {
     "data": {
      "text/plain": [
       "(array([-14.30540864,  -4.34740072,  23.65280936]),\n",
       " array([[ 0.15315575,  0.88160309,  0.44645191],\n",
       "        [ 0.63674998, -0.43353159,  0.6376518 ],\n",
       "        [-0.75570681, -0.18661821,  0.62775861]]))"
      ]
     },
     "execution_count": 135,
     "metadata": {},
     "output_type": "execute_result"
    }
   ],
   "source": [
    "np.linalg.eigh(a) "
   ]
  },
  {
   "cell_type": "markdown",
   "metadata": {},
   "source": [
    "Знайдіть число, що найчастіше зустрічається в масиві:"
   ]
  },
  {
   "cell_type": "code",
   "execution_count": 158,
   "metadata": {},
   "outputs": [
    {
     "name": "stdout",
     "output_type": "stream",
     "text": [
      "Число, котре найчастіше зустрічається в масиві 8\n"
     ]
    }
   ],
   "source": [
    "a = np.random.randint(0,10,50)\n",
    "print('Число, котре найчастіше зустрічається в масиві',np.bincount(a).argmax())"
   ]
  },
  {
   "cell_type": "markdown",
   "metadata": {},
   "source": [
    "Виведіть лише парні числа, що діляться на 5:"
   ]
  },
  {
   "cell_type": "code",
   "execution_count": 159,
   "metadata": {},
   "outputs": [
    {
     "name": "stdout",
     "output_type": "stream",
     "text": [
      "Парні числа, що діляться на 5 [0 0 0 0]\n"
     ]
    }
   ],
   "source": [
    "a = np.random.randint(0,10,50)\n",
    "a = a[a%2==0]\n",
    "a = a[a%5==0]\n",
    "print('Парні числа, що діляться на 5', a)"
   ]
  },
  {
   "cell_type": "markdown",
   "metadata": {},
   "source": [
    "Розв'яжіть систему рівнянь:\n",
    "$$2x + 5y = 1 $$\n",
    "\n",
    "$$x - 10y = 3  $$\n",
    "   "
   ]
  },
  {
   "cell_type": "code",
   "execution_count": 148,
   "metadata": {},
   "outputs": [
    {
     "data": {
      "text/plain": [
       "array([ 1. , -0.2])"
      ]
     },
     "execution_count": 148,
     "metadata": {},
     "output_type": "execute_result"
    }
   ],
   "source": [
    "import numpy as np\n",
    "M1 = numpy.array([[2., 5.], [1., -10.]]) \n",
    "v1 = numpy.array([1., 3.])\n",
    "numpy.linalg.solve(M1, v1)"
   ]
  }
 ],
 "metadata": {
  "kernelspec": {
   "display_name": "Python 3",
   "language": "python",
   "name": "python3"
  },
  "language_info": {
   "codemirror_mode": {
    "name": "ipython",
    "version": 3
   },
   "file_extension": ".py",
   "mimetype": "text/x-python",
   "name": "python",
   "nbconvert_exporter": "python",
   "pygments_lexer": "ipython3",
   "version": "3.8.8"
  }
 },
 "nbformat": 4,
 "nbformat_minor": 2
}
