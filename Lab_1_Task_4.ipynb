{
 "cells": [
  {
   "cell_type": "markdown",
   "id": "0fa654a4",
   "metadata": {},
   "source": [
    "Here is the simple mean:  \n",
    "$\\bar{y} = \\frac{1}{n} * \\sum_{i=1}^{n}{y_i}$"
   ]
  },
  {
   "cell_type": "markdown",
   "id": "9594aef9",
   "metadata": {},
   "source": [
    "Here is the simple variance:  \n",
    "$\\sigma^2 = \\frac{\\sum_{i=1}^{n}{(y_i - \\bar{y})^2}}{n - 1}$"
   ]
  },
  {
   "cell_type": "markdown",
   "id": "59195a3c",
   "metadata": {},
   "source": [
    "Here is the sample standart deviation:  \n",
    "$\\sigma = \\sqrt{ \\frac{\\sum_{i=1}^{n}{(y_i - \\bar{y})^2}}{n - 1}}$  "
   ]
  }
 ],
 "metadata": {
  "kernelspec": {
   "display_name": "Python 3",
   "language": "python",
   "name": "python3"
  },
  "language_info": {
   "codemirror_mode": {
    "name": "ipython",
    "version": 3
   },
   "file_extension": ".py",
   "mimetype": "text/x-python",
   "name": "python",
   "nbconvert_exporter": "python",
   "pygments_lexer": "ipython3",
   "version": "3.8.8"
  }
 },
 "nbformat": 4,
 "nbformat_minor": 5
}
