{
 "cells": [
  {
   "cell_type": "markdown",
   "id": "88ff0ecd",
   "metadata": {},
   "source": [
    "## 1. Markdown introduction"
   ]
  },
  {
   "cell_type": "markdown",
   "id": "5d00aa4e",
   "metadata": {},
   "source": [
    "* Hi, this is Main Academies student"
   ]
  },
  {
   "cell_type": "markdown",
   "id": "d11af6e4",
   "metadata": {},
   "source": [
    "* I'm practicing the Markdown"
   ]
  },
  {
   "cell_type": "markdown",
   "id": "b9a4e17a",
   "metadata": {},
   "source": [
    "* My page on [LinkedIn](https://www.linkedin.com/in/lidiyaoryshchyn/)"
   ]
  },
  {
   "cell_type": "markdown",
   "id": "fb684551",
   "metadata": {},
   "source": [
    "# It's important - practicing"
   ]
  },
  {
   "cell_type": "markdown",
   "id": "95024151",
   "metadata": {},
   "source": [
    "## it's interesting - practicing"
   ]
  },
  {
   "cell_type": "markdown",
   "id": "43e59fa2",
   "metadata": {},
   "source": [
    "some important things:  \n",
    "> Everything is relevant  "
   ]
  },
  {
   "cell_type": "markdown",
   "id": "6130152d",
   "metadata": {},
   "source": [
    "Now, I've tried to make some math formula:  \n",
    "&nbsp;&nbsp;&nbsp;&nbsp;&nbsp;&nbsp;&nbsp;&nbsp;&nbsp;&nbsp;&nbsp;&nbsp;&nbsp;&nbsp;&nbsp;&nbsp;&nbsp;&nbsp;&nbsp;&nbsp;&nbsp;&nbsp;&nbsp;&nbsp;&nbsp;&nbsp;&nbsp;&nbsp;&nbsp;&nbsp;&nbsp;&nbsp;&nbsp;&nbsp;&nbsp;&nbsp;&nbsp;&nbsp;&nbsp;&nbsp;&nbsp;&nbsp;&nbsp;&nbsp;&nbsp;&nbsp;&nbsp;&nbsp;&nbsp;&nbsp;&nbsp;&nbsp;&nbsp;&nbsp;&nbsp;&nbsp;&nbsp;&nbsp;&nbsp;&nbsp;&nbsp;&nbsp;&nbsp;&nbsp;&nbsp;&nbsp;&nbsp;&nbsp;&nbsp;&nbsp;&nbsp;&nbsp;$x_{sub} = \\sqrt{y_{sub}}$"
   ]
  },
  {
   "cell_type": "markdown",
   "id": "66f38582",
   "metadata": {},
   "source": [
    "Some python code example:  \n",
    "&nbsp;&nbsp;&nbsp;&nbsp;&nbsp;&nbsp;&nbsp;&nbsp;&nbsp;&nbsp;&nbsp;&nbsp;import math  \n",
    "&nbsp;&nbsp;&nbsp;&nbsp;&nbsp;&nbsp;&nbsp;&nbsp;&nbsp;&nbsp;&nbsp;&nbsp;def foo():     \n",
    "&nbsp;&nbsp;&nbsp;&nbsp;&nbsp;&nbsp;&nbsp;&nbsp;&nbsp;&nbsp;&nbsp;&nbsp;&nbsp;&nbsp;&nbsp;&nbsp;&nbsp;&nbsp;return \"foo\"\n"
   ]
  }
 ],
 "metadata": {
  "kernelspec": {
   "display_name": "Python 3",
   "language": "python",
   "name": "python3"
  },
  "language_info": {
   "codemirror_mode": {
    "name": "ipython",
    "version": 3
   },
   "file_extension": ".py",
   "mimetype": "text/x-python",
   "name": "python",
   "nbconvert_exporter": "python",
   "pygments_lexer": "ipython3",
   "version": "3.8.8"
  }
 },
 "nbformat": 4,
 "nbformat_minor": 5
}
