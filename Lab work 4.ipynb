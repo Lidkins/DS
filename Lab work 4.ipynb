{
 "cells": [
  {
   "cell_type": "markdown",
   "metadata": {},
   "source": [
    "___\n",
    "\n",
    "<a href='https://mainacademy.ua/'> <img src='https://mainacademy.ua/wp-content/uploads/2019/03/logo-main.png' alt = 'Хмм, щось з інтернетом'/></a>\n",
    "___\n",
    "\n",
    "# Module 4: Work with data professionally!"
   ]
  },
  {
   "cell_type": "markdown",
   "metadata": {},
   "source": [
    "## Lab work 4\n",
    "\n"
   ]
  },
  {
   "cell_type": "markdown",
   "metadata": {},
   "source": [
    "#### Мета: \n",
    "\n",
    "* навчитися обробляти дані\n",
    "* \"парсити\" сайти"
   ]
  },
  {
   "cell_type": "markdown",
   "metadata": {},
   "source": [
    "### Завдання 1:"
   ]
  },
  {
   "cell_type": "markdown",
   "metadata": {},
   "source": [
    "#### Ознайомитися із API Національного банку \n",
    "https://old.bank.gov.ua/control/uk/publish/article?art_id=38441973&cat_id=38459171#exchange\n",
    "\n"
   ]
  },
  {
   "cell_type": "markdown",
   "metadata": {},
   "source": [
    "1. Підключитися до API.\n"
   ]
  },
  {
   "cell_type": "code",
   "execution_count": 30,
   "metadata": {},
   "outputs": [
    {
     "name": "stdout",
     "output_type": "stream",
     "text": [
      "Requirement already satisfied: requests in c:\\users\\lidao\\anaconda3\\lib\\site-packages (2.25.1)\n",
      "Requirement already satisfied: urllib3<1.27,>=1.21.1 in c:\\users\\lidao\\anaconda3\\lib\\site-packages (from requests) (1.26.4)\n",
      "Requirement already satisfied: chardet<5,>=3.0.2 in c:\\users\\lidao\\anaconda3\\lib\\site-packages (from requests) (4.0.0)\n",
      "Requirement already satisfied: certifi>=2017.4.17 in c:\\users\\lidao\\anaconda3\\lib\\site-packages (from requests) (2020.12.5)\n",
      "Requirement already satisfied: idna<3,>=2.5 in c:\\users\\lidao\\anaconda3\\lib\\site-packages (from requests) (2.10)\n",
      "Note: you may need to restart the kernel to use updated packages.\n"
     ]
    }
   ],
   "source": [
    "pip install requests"
   ]
  },
  {
   "cell_type": "code",
   "execution_count": 31,
   "metadata": {},
   "outputs": [],
   "source": [
    "import requests\n",
    "\n",
    "site = 'https://bank.gov.ua/NBUStatService/v1/statdirectory/exchange?valcode=USD&json'\n",
    "\n",
    "r = requests.get(site)\n",
    "\n",
    "if r.status_code == 200:\n",
    "    data = r.json()\n"
   ]
  },
  {
   "cell_type": "markdown",
   "metadata": {},
   "source": [
    "2. Отримати курс долара за останній рік."
   ]
  },
  {
   "cell_type": "code",
   "execution_count": null,
   "metadata": {},
   "outputs": [],
   "source": [
    "\n",
    "from datetime import date, datetime, timedelta\n",
    "import requests\n",
    "\n",
    "db = []\n",
    "d = date(2021,1,1)\n",
    "\n",
    "for i in range(365):\n",
    "    \n",
    "    site = f'https://bank.gov.ua/NBUStatService/v1/statdirectory/exchange?valcode=USD&date={d.strftime(\"%Y%m%d\")}&json'\n",
    "    r = requests.get(site)\n",
    "\n",
    "    if r.status_code == 200:\n",
    "        data = r.json()\n",
    "        for currency in data:\n",
    "            tmp = [currency['exchangedate'], currency['rate']]\n",
    "            db.append(tmp)\n",
    "        \n",
    "    d -= timedelta(days=1)\n",
    "\n",
    "  \n",
    " \n",
    "#print(db)\n",
    "\n"
   ]
  },
  {
   "cell_type": "code",
   "execution_count": 96,
   "metadata": {},
   "outputs": [
    {
     "name": "stdout",
     "output_type": "stream",
     "text": [
      "[['01.01.2021', 28.2746], ['31.12.2020', 28.2746], ['30.12.2020', 28.2605], ['29.12.2020', 28.3668]]\n"
     ]
    },
    {
     "data": {
      "text/plain": [
       "list"
      ]
     },
     "execution_count": 96,
     "metadata": {},
     "output_type": "execute_result"
    }
   ],
   "source": [
    "test=db[0:4]\n",
    "\n",
    "print(test)\n",
    "\n",
    "test2 = test[:][1]\n",
    "type(test2)\n",
    "\n",
    "\n",
    "#summ_s = sum(test)\n",
    "\n",
    "#mnth = ['01.01.2021', '01.12.2020']\n",
    "\n",
    "#test2= test[mnth][:]\n"
   ]
  },
  {
   "cell_type": "markdown",
   "metadata": {},
   "source": [
    "3. Вивести середнє значення та відхилення курсу за кожний місяць."
   ]
  },
  {
   "cell_type": "markdown",
   "metadata": {},
   "source": [
    "Вітання, це завдання мені не вдалося виконати через брак часу. Якщо буде можливість його доробити пізніше -- буду дуже вдячна."
   ]
  },
  {
   "cell_type": "markdown",
   "metadata": {},
   "source": [
    "4. Дану інформацію записати у файл за допомогою pickle."
   ]
  },
  {
   "cell_type": "markdown",
   "metadata": {},
   "source": [
    "Нажаль, це завдання мені не вдалося виконати через брак часу. Якщо буде можливість його доробити пізніше -- буду дуже вдячна."
   ]
  },
  {
   "cell_type": "markdown",
   "metadata": {},
   "source": [
    "### Завдання 2:"
   ]
  },
  {
   "cell_type": "markdown",
   "metadata": {},
   "source": [
    "Потрібно проаналізувати всі товари на сайті: \n",
    "https://smallpacking.agrosem.ua/shop/"
   ]
  },
  {
   "cell_type": "markdown",
   "metadata": {},
   "source": [
    "Створіть базу даних, що містить таблицю із такими стовбцями: \n",
    "    - артикул товару\n",
    "    - найменування\n",
    "    - ціна \n",
    "    - вага"
   ]
  },
  {
   "cell_type": "code",
   "execution_count": 80,
   "metadata": {},
   "outputs": [
    {
     "name": "stdout",
     "output_type": "stream",
     "text": [
      "{'Ferticare Hydro 6-14-30 + micro': {'14 700 грн'}, 'Ferticare Kombi 14-11-25 + micro': {'14 700 грн'}, 'MagPlon K (нітрат калію)': {'14 700 грн'}, 'Pulan 34.4': {'14 700 грн'}, 'Saletrosan®26': {'14 700 грн'}, 'Saletrosan®30': {'14 700 грн'}, 'Saletrzak 27 macro': {'14 700 грн'}, 'Siarczan AS 21 Macro': {'14 700 грн'}, 'Yara Liva Кальциніт': {'14 700 грн'}, 'Yara Liva Нітрабор': {'14 700 грн'}, 'YaraBela Сульфан': {'14 700 грн'}, 'YaraIrix': {'14 700 грн'}, 'YaraMila Complex 12-11-18': {'14 700 грн'}, 'YaraMila Cropcare 11-11-21': {'14 700 грн'}, 'YaraMila NP 20-20 +9,0SO3': {'14 700 грн'}, 'YaraMila NPK 12-24-12': {'14 700 грн'}}\n"
     ]
    }
   ],
   "source": [
    "import requests\n",
    "from bs4 import BeautifulSoup\n",
    "site = 'https://smallpacking.agrosem.ua/shop/'\n",
    "HEADERS = {\n",
    "             'User-Agent': 'Mozilla/5.0 (Windows NT 6.1; WOW64; rv:49.0) Gecko/20100101 Firefox/49.0',\n",
    "             'Accept': 'text/html,application/xhtml+xml,application/xml;q=0.9,*/*;q=0.8',\n",
    "             'Accept-Language': 'ua-UA,en;q=0.5',\n",
    "             'Accept-Encoding': 'gzip, deflate',\n",
    "             'DNT': '1',\n",
    "             'Connection': 'keep-alive',\n",
    "             'Upgrade-Insecure-Requests': '1'\n",
    "         }\n",
    "r = requests.get(site, headers = HEADERS)\n",
    "soup = BeautifulSoup(r.text, 'lxml')\n",
    "\n",
    "        \n",
    "product = soup.find_all('span', class_ =\"pruduct-name-bottom\")\n",
    "price = soup.find_all('span', class_=\"regular-price\")\n",
    "\n",
    "DB = {}\n",
    "for teg in soup.find_all('div', class_= \"product-from-category\"):\n",
    "    for el1 in soup.find_all('span', class_ =\"pruduct-name-bottom\"):\n",
    "         for el2 in soup.find_all('span', class_=\"regular-price\"):\n",
    "            product = el1.text\n",
    "            price = el2.text\n",
    "            DB[product] = {price}\n",
    "\n",
    "print(DB)\n"
   ]
  },
  {
   "cell_type": "markdown",
   "metadata": {},
   "source": [
    "Аналогічно, це завдання мені не вдалося виконати через брак часу. Якщо буде можливість його доробити пізніше -- буду дуже вдячна."
   ]
  },
  {
   "cell_type": "code",
   "execution_count": null,
   "metadata": {},
   "outputs": [],
   "source": []
  },
  {
   "cell_type": "code",
   "execution_count": null,
   "metadata": {},
   "outputs": [],
   "source": []
  },
  {
   "cell_type": "markdown",
   "metadata": {},
   "source": [
    "### Завдання 3: "
   ]
  },
  {
   "cell_type": "markdown",
   "metadata": {},
   "source": [
    "Ознайомтеся із роботою SQLite та відповідним модулем у Python.\n",
    "Завантажте базу даних для виконання лабораторної роботи.\n",
    "Підключіться до завантаженої бази SQLite."
   ]
  },
  {
   "cell_type": "markdown",
   "metadata": {},
   "source": [
    "1. Виведіть інформацію про дану базу."
   ]
  },
  {
   "cell_type": "code",
   "execution_count": 41,
   "metadata": {},
   "outputs": [
    {
     "name": "stdout",
     "output_type": "stream",
     "text": [
      "<sqlite3.Connection object at 0x0000018277BC65D0>\n"
     ]
    }
   ],
   "source": [
    "import sqlite3\n",
    "con = sqlite3.connect(\"tysql.sqlite\")\n",
    "cur = con.cursor()\n",
    "print(con)"
   ]
  },
  {
   "cell_type": "code",
   "execution_count": null,
   "metadata": {},
   "outputs": [],
   "source": []
  },
  {
   "cell_type": "markdown",
   "metadata": {},
   "source": [
    "2. Виведіть перелік всіх таблиць."
   ]
  },
  {
   "cell_type": "code",
   "execution_count": 46,
   "metadata": {},
   "outputs": [
    {
     "name": "stdout",
     "output_type": "stream",
     "text": [
      "('Customers',)\n",
      "('OrderItems',)\n",
      "('Orders',)\n",
      "('Products',)\n",
      "('Vendors',)\n"
     ]
    }
   ],
   "source": [
    "con = sqlite3.connect('tysql.sqlite')\n",
    "cur = con.cursor()\n",
    "for row in cur.execute(\"SELECT name from sqlite_master where type= 'table' \"):\n",
    "    print(row)\n",
    "conn.close()"
   ]
  },
  {
   "cell_type": "markdown",
   "metadata": {},
   "source": [
    "3. Список всіх cust_id з таблиці Customers table."
   ]
  },
  {
   "cell_type": "code",
   "execution_count": 47,
   "metadata": {},
   "outputs": [
    {
     "name": "stdout",
     "output_type": "stream",
     "text": [
      "('1000000001',)\n",
      "('1000000002',)\n",
      "('1000000003',)\n",
      "('1000000004',)\n",
      "('1000000005',)\n"
     ]
    }
   ],
   "source": [
    "con = sqlite3.connect('tysql.sqlite')\n",
    "cur = con.cursor()\n",
    "for row in cur.execute(\"SELECT cust_id from Customers\"):\n",
    "    print(row)\n",
    "conn.close()"
   ]
  },
  {
   "cell_type": "markdown",
   "metadata": {},
   "source": [
    "4. Всю таблицю Customers table"
   ]
  },
  {
   "cell_type": "code",
   "execution_count": 48,
   "metadata": {},
   "outputs": [
    {
     "name": "stdout",
     "output_type": "stream",
     "text": [
      "('1000000001', 'Village Toys', '200 Maple Lane', 'Detroit', 'MI', '44444', 'USA', 'John Smith', 'sales@villagetoys.com')\n",
      "('1000000002', 'Kids Place', '333 South Lake Drive', 'Columbus', 'OH', '43333', 'USA', 'Michelle Green', None)\n",
      "('1000000003', 'Fun4All', '1 Sunny Place', 'Muncie', 'IN', '42222', 'USA', 'Jim Jones', 'jjones@fun4all.com')\n",
      "('1000000004', 'Fun4All', '829 Riverside Drive', 'Phoenix', 'AZ', '88888', 'USA', 'Denise L. Stephens', 'dstephens@fun4all.com')\n",
      "('1000000005', 'The Toy Store', '4545 53rd Street', 'Chicago', 'IL', '54545', 'USA', 'Kim Howard', None)\n"
     ]
    }
   ],
   "source": [
    "con = sqlite3.connect('tysql.sqlite')\n",
    "cur = con.cursor()\n",
    "for row in cur.execute(\"SELECT * from Customers\"):\n",
    "    print(row)\n",
    "conn.close()"
   ]
  },
  {
   "cell_type": "markdown",
   "metadata": {},
   "source": [
    "5. Список клієнтів (cust_names) відсортованих від Z до A"
   ]
  },
  {
   "cell_type": "code",
   "execution_count": 52,
   "metadata": {},
   "outputs": [
    {
     "name": "stdout",
     "output_type": "stream",
     "text": [
      "('Fun4All',)\n",
      "('Fun4All',)\n",
      "('Kids Place',)\n",
      "('The Toy Store',)\n",
      "('Village Toys',)\n"
     ]
    }
   ],
   "source": [
    "con = sqlite3.connect('tysql.sqlite')\n",
    "cur = con.cursor()\n",
    "for row in cur.execute(\"SELECT cust_name from Customers ORDER BY cust_name ASC\"):\n",
    "    print(row)\n",
    "conn.close()"
   ]
  },
  {
   "cell_type": "markdown",
   "metadata": {},
   "source": [
    "6. Таблицю клієнтів та замовлень (cust_id і order_num) . Відсортуйте по клієнту і потім по даті замовлення"
   ]
  },
  {
   "cell_type": "code",
   "execution_count": 64,
   "metadata": {},
   "outputs": [
    {
     "name": "stdout",
     "output_type": "stream",
     "text": [
      "('1000000001', 20009)\n",
      "('1000000001', 20008)\n",
      "('1000000001', 20007)\n",
      "('1000000001', 20006)\n",
      "('1000000001', 20005)\n",
      "('1000000002', 20009)\n",
      "('1000000002', 20008)\n",
      "('1000000002', 20007)\n",
      "('1000000002', 20006)\n",
      "('1000000002', 20005)\n",
      "('1000000003', 20009)\n",
      "('1000000003', 20008)\n",
      "('1000000003', 20007)\n",
      "('1000000003', 20006)\n",
      "('1000000003', 20005)\n",
      "('1000000004', 20009)\n",
      "('1000000004', 20008)\n",
      "('1000000004', 20007)\n",
      "('1000000004', 20006)\n",
      "('1000000004', 20005)\n",
      "('1000000005', 20009)\n",
      "('1000000005', 20008)\n",
      "('1000000005', 20007)\n",
      "('1000000005', 20006)\n",
      "('1000000005', 20005)\n"
     ]
    }
   ],
   "source": [
    "con = sqlite3.connect('tysql.sqlite')\n",
    "cur = con.cursor()\n",
    "for row in cur.execute(\"SELECT DISTINCT Customers.cust_id, order_num FROM Customers INNER JOIN Orders ORDER BY Customers.cust_id ASC, order_num DESC\"):\n",
    "    print(row)\n",
    "conn.close()"
   ]
  },
  {
   "cell_type": "markdown",
   "metadata": {},
   "source": [
    "7. Таблицю (на основі Items) з кількість та вартістю товару. Відсортуйте в порядку спадання по кількості та вартості"
   ]
  },
  {
   "cell_type": "code",
   "execution_count": 65,
   "metadata": {},
   "outputs": [
    {
     "name": "stdout",
     "output_type": "stream",
     "text": [
      "(250, 2.49)\n",
      "(100, 10.99)\n",
      "(100, 5.49)\n",
      "(100, 2.99)\n",
      "(50, 11.49)\n",
      "(50, 4.49)\n",
      "(20, 5.99)\n",
      "(10, 11.99)\n",
      "(10, 8.99)\n",
      "(10, 3.49)\n",
      "(5, 11.99)\n",
      "(5, 4.99)\n"
     ]
    }
   ],
   "source": [
    "con = sqlite3.connect('tysql.sqlite')\n",
    "cur = con.cursor()\n",
    "for row in cur.execute(\"SELECT DISTINCT quantity, item_price FROM OrderItems ORDER BY quantity DESC, item_price DESC\"):\n",
    "    print(row)\n",
    "conn.close()"
   ]
  },
  {
   "cell_type": "markdown",
   "metadata": {},
   "source": [
    "8. Товар (з таблиці Products), ціна якого становить 9.49"
   ]
  },
  {
   "cell_type": "code",
   "execution_count": 66,
   "metadata": {},
   "outputs": [
    {
     "name": "stdout",
     "output_type": "stream",
     "text": [
      "('King doll',)\n",
      "('Queen doll',)\n"
     ]
    }
   ],
   "source": [
    "con = sqlite3.connect('tysql.sqlite')\n",
    "cur = con.cursor()\n",
    "for row in cur.execute(\"SELECT prod_name FROM Products WHERE prod_price = 9.49\"):\n",
    "    print(row)"
   ]
  },
  {
   "cell_type": "markdown",
   "metadata": {},
   "source": [
    "9. Виведіть назву товару та ціну, яка лежить в діапазоні від  3 до 6. Відсортуйте результат в по ціні в порядку зростання"
   ]
  },
  {
   "cell_type": "code",
   "execution_count": 68,
   "metadata": {},
   "outputs": [
    {
     "name": "stdout",
     "output_type": "stream",
     "text": [
      "('Fish bean bag toy', 3.49)\n",
      "('Bird bean bag toy', 3.49)\n",
      "('Rabbit bean bag toy', 3.49)\n",
      "('Raggedy Ann', 4.99)\n",
      "('8 inch teddy bear', 5.99)\n",
      "('12 inch teddy bear', 8.99)\n",
      "('King doll', 9.49)\n",
      "('Queen doll', 9.49)\n",
      "('18 inch teddy bear', 11.99)\n"
     ]
    }
   ],
   "source": [
    "con = sqlite3.connect('tysql.sqlite')\n",
    "cur = con.cursor()\n",
    "for row in cur.execute(\"SELECT prod_name, prod_price FROM Products WHERE  3 < prod_price < 6 ORDER BY prod_price ASC\"):\n",
    "    print(row)"
   ]
  },
  {
   "cell_type": "markdown",
   "metadata": {},
   "source": [
    "10. Кількість товару, що було продано"
   ]
  },
  {
   "cell_type": "code",
   "execution_count": 69,
   "metadata": {},
   "outputs": [
    {
     "name": "stdout",
     "output_type": "stream",
     "text": [
      "(45,)\n"
     ]
    }
   ],
   "source": [
    "con = sqlite3.connect('tysql.sqlite')\n",
    "cur = con.cursor()\n",
    "for row in cur.execute(\"SELECT SUM(order_item) FROM OrderItems \"):\n",
    "    print(row)"
   ]
  },
  {
   "cell_type": "markdown",
   "metadata": {},
   "source": [
    "11. Кількість найменувань товару, ціна якого більша за 4"
   ]
  },
  {
   "cell_type": "code",
   "execution_count": 17,
   "metadata": {},
   "outputs": [
    {
     "name": "stdout",
     "output_type": "stream",
     "text": [
      "Кількість найменувань товару, де ціна вища 4 (6,)\n"
     ]
    }
   ],
   "source": [
    "import sqlite3\n",
    "con = sqlite3.connect('tysql.sqlite')\n",
    "cur = con.cursor()\n",
    "for row in cur.execute(\"SELECT COUNT(prod_name) FROM Products WHERE prod_price > 4\"):\n",
    "    print('Кількість найменувань товару, де ціна вища 4', row)"
   ]
  },
  {
   "cell_type": "markdown",
   "metadata": {},
   "source": [
    "12. Розробіть алгоритм для виведення 3 найдорожчих товарів в базі"
   ]
  },
  {
   "cell_type": "code",
   "execution_count": 6,
   "metadata": {},
   "outputs": [
    {
     "name": "stdout",
     "output_type": "stream",
     "text": [
      "Найдорожчий товар (11.99,)\n",
      "Найдорожчий товар (9.49,)\n",
      "Найдорожчий товар (9.49,)\n"
     ]
    }
   ],
   "source": [
    "import sqlite3\n",
    "con = sqlite3.connect('tysql.sqlite')\n",
    "cur = con.cursor()\n",
    "for row in cur.execute(\"SELECT prod_price FROM Products ORDER BY prod_price DESC LIMIT 3\"):\n",
    "    print('Найдорожчий товар', row)"
   ]
  },
  {
   "cell_type": "markdown",
   "metadata": {},
   "source": [
    "13. Підрахуйте кількість замовлень для кожного клієнта використовуючи підзапити"
   ]
  },
  {
   "cell_type": "code",
   "execution_count": 27,
   "metadata": {},
   "outputs": [
    {
     "name": "stdout",
     "output_type": "stream",
     "text": [
      "('Village Toys', 2)\n",
      "('Kids Place', 0)\n",
      "('Fun4All', 1)\n",
      "('Fun4All', 1)\n",
      "('The Toy Store', 1)\n"
     ]
    }
   ],
   "source": [
    "import sqlite3\n",
    "con = sqlite3.connect('tysql.sqlite')\n",
    "cur = con.cursor()\n",
    "for row in cur.execute(\"SELECT cust_name, (SELECT COUNT(order_num) FROM Orders WHERE Customers.cust_id = Orders.cust_id) FROM Customers \"):\n",
    "    print( row)"
   ]
  },
  {
   "cell_type": "markdown",
   "metadata": {},
   "source": [
    "14. Виведіть список клієнтів та їх замовлення (використайте JOIN)"
   ]
  },
  {
   "cell_type": "code",
   "execution_count": 36,
   "metadata": {},
   "outputs": [
    {
     "name": "stdout",
     "output_type": "stream",
     "text": [
      "Клієнт та його замовлення: (20006, 'Fun4All', '2012-01-12')\n",
      "Клієнт та його замовлення: (20007, 'Fun4All', '2012-01-30')\n",
      "Клієнт та його замовлення: (20008, 'The Toy Store', '2012-02-03')\n",
      "Клієнт та його замовлення: (20005, 'Village Toys', '2012-05-01')\n",
      "Клієнт та його замовлення: (20009, 'Village Toys', '2012-02-08')\n"
     ]
    }
   ],
   "source": [
    "import sqlite3\n",
    "con = sqlite3.connect('tysql.sqlite')\n",
    "cur = con.cursor()\n",
    "for row in cur.execute(\"SELECT DISTINCT order_num, cust_name,  order_date FROM Customers JOIN Orders ON   Customers.cust_id = Orders.cust_id ORDER BY cust_name \"):\n",
    "    print('Клієнт та його замовлення:', row)"
   ]
  },
  {
   "cell_type": "markdown",
   "metadata": {},
   "source": [
    "15. Зробіть два запити: список товарів, ціна яких менша 5 та список товарів, ціна який більша рівна 5. Використайте UNION для об'єднання цих запитів"
   ]
  },
  {
   "cell_type": "code",
   "execution_count": 39,
   "metadata": {},
   "outputs": [
    {
     "name": "stdout",
     "output_type": "stream",
     "text": [
      "Товари та ціни: ('Bird bean bag toy', 3.49)\n",
      "Товари та ціни: ('Fish bean bag toy', 3.49)\n",
      "Товари та ціни: ('Rabbit bean bag toy', 3.49)\n",
      "Товари та ціни: ('Raggedy Ann', 4.99)\n"
     ]
    }
   ],
   "source": [
    "con = sqlite3.connect('tysql.sqlite')\n",
    "cur = con.cursor()\n",
    "for row in cur.execute(\"SELECT prod_name, prod_price FROM Products WHERE prod_price < 5 UNION SELECT prod_name, prod_price FROM Products WHERE prod_price = 5 \"):\n",
    "    print('Товари та ціни:', row)\n",
    "conn.close()"
   ]
  },
  {
   "cell_type": "markdown",
   "metadata": {},
   "source": [
    "### Завдання 4: "
   ]
  },
  {
   "cell_type": "markdown",
   "metadata": {},
   "source": [
    "Зареєструйтеся на сайті  http://www.sql-ex.ru/\n",
    "\n",
    "Виконайте завдання із блоку SELECT; з 1 по 30 завдання\n",
    "\n",
    "Код запитів вставляйте сюди\n"
   ]
  },
  {
   "cell_type": "markdown",
   "metadata": {},
   "source": [
    "Тут розміщено перелік 27 виконаних завдань з бази http://www.sql-ex.ru/"
   ]
  },
  {
   "cell_type": "code",
   "execution_count": null,
   "metadata": {},
   "outputs": [],
   "source": [
    "1.вивести модель, швидкість, розмір ПК, ціна яких менше 500 доларів\n",
    "\n",
    "SELECT model, speed, hd\n",
    "FROM pc\n",
    "WHERE price < 500\n",
    "\n",
    "2.Найдите производителей принтеров.\n",
    "SELECT DISTINCT maker \n",
    "FROM Product \n",
    "WHERE type = 'printer'\n",
    "\n",
    "3.Найдите номер модели, объем памяти и размеры экранов ПК-блокнотов, цена которых превышает 1000 дол.\n",
    "\n",
    "SELECT model, ram, screen\n",
    "FROM Laptop\n",
    "WHERE price > 1000\n",
    "\n",
    "4.Найдите все записи таблицы Printer для цветных принтеров.\n",
    "SELECT * FROM Printer\n",
    "WHERE color = 'y'\n",
    "\n",
    "5.#айдите номер модели, скорость и размер жесткого диска ПК, имеющих 12x или 24x CD и цену менее 600 дол.\n",
    "SELECT model, speed, hd\n",
    "FROM PC\n",
    "WHERE (cd = '12x' OR cd = '24x') AND price < 600\n",
    "\n",
    "6.Для каждого производителя, выпускающего ПК-блокноты c объёмом жесткого диска не менее 10 Гбайт, найти скорости таких ПК-блокнотов. Вывод: производитель, скорость.\n",
    "SELECT DISTINCT maker, speed\n",
    "FROM Product RIGHT JOIN Laptop\n",
    "ON Product.model=Laptop.model\n",
    "WHERE hd >= 10\n",
    "\n",
    "\n",
    "7.Найдите номера моделей и цены всех имеющихся в продаже продуктов (любого типа) производителя B (латинская буква).\n",
    "SELECT a.model, price \n",
    "FROM (SELECT model, price \n",
    " FROM PC \n",
    " UNION\n",
    " SELECT model, price \n",
    "  FROM Laptop\n",
    " UNION\n",
    " SELECT model, price \n",
    " FROM Printer\n",
    " ) AS a JOIN \n",
    " Product p ON a.model = p.model\n",
    "WHERE p.maker = 'B';\n",
    "\n",
    "8.Найдите производителя, выпускающего ПК, но не ПК-блокноты.\n",
    "SELECT maker FROM Product\n",
    "WHERE type = 'PC' \n",
    "EXCEPT\n",
    "SELECT maker FROM Product \n",
    "WHERE type = 'laptop';\n",
    "\n",
    "9.Найдите производителей ПК с процессором не менее 450 Мгц. Вывести: Maker\n",
    "SELECT DISTINCT maker\n",
    "FROM Product RIGHT JOIN PC\n",
    "ON Product.model = PC.model\n",
    "WHERE speed >= 450\n",
    "\n",
    "10.Найдите модели принтеров, имеющих самую высокую цену. Вывести: model, price\n",
    "SELECT DISTINCT model, price\n",
    "FROM Printer\n",
    "WHERE price = (SELECT MAX(price) \n",
    " FROM Printer)\n",
    " \n",
    "11. Найдите среднюю скорость ПК.\n",
    " SELECT AVG(speed) AS Avg_speed \n",
    "FROM PC\n",
    "\n",
    "12.SELECT AVG(speed) AS Avg_speed \n",
    "FROM PC\n",
    "SELECT AVG(speed) AS Avg_speed \n",
    "FROM Laptop\n",
    "WHERE price > 1000\n",
    "\n",
    "13.Найдите среднюю скорость ПК, выпущенных производителем A.\n",
    "SELECT AVG(speed) AS Avg_speed \n",
    "FROM Product RIGHT JOIN PC \n",
    "ON Product.model = PC.model\n",
    "WHERE maker = 'A'\n",
    "\n",
    "14.Найдите класс, имя и страну для кораблей из таблицы Ships, имеющих не менее 10 орудий.\n",
    "SELECT DISTINCT Ships.class, name, country\n",
    "FROM Ships INNER JOIN Classes \n",
    "ON  Ships.class = Classes.class \n",
    "WHERE numGuns >= 10\n",
    "\n",
    "15.Найдите размеры жестких дисков, совпадающих у двух и более PC. Вывести: HD\n",
    "SELECT hd FROM PC\n",
    "GROUP BY hd\n",
    "HAVING COUNT(hd) > 1\n",
    "\n",
    "\n",
    "\n",
    "\n",
    "16.Найдите пары моделей PC, имеющих одинаковые скорость и RAM. В результате каждая пара указывается только один раз, т.е. (i,j), но не (j,i), Порядок вывода: модель с большим номером, модель с меньшим номером, скорость и RAM.\n",
    "SELECT MAX(model) AS 'model', MIN(model) AS 'model', speed, ram\n",
    "FROM PC\n",
    "GROUP BY speed, ram\n",
    "HAVING MAX(model) > MIN(model)\n",
    "\n",
    "17.Найдите модели ПК-блокнотов, скорость которых меньше скорости каждого из ПК.\n",
    "Вывести: type, model, speed\n",
    "SELECT DISTINCT p.type, l.model, l.speed\n",
    "FROM Product p, Laptop l, PC c\n",
    "WHERE l.speed < (SELECT MIN (speed) FROM PC ) AND p.type = 'laptop'\n",
    "\t  \n",
    "18.Найдите производителей самых дешевых цветных принтеров. Вывести: maker, price\n",
    "SELECT c.maker, a.price \n",
    "FROM (SELECT MIN(price) AS price\n",
    "      FROM Printer \n",
    "      WHERE color ='y') \n",
    "a INNER JOIN \n",
    "      Printer b ON a.price = b.price INNER JOIN \n",
    "      Product c ON b.model = c.model\n",
    "\n",
    "19.Для каждого производителя, имеющего модели в таблице Laptop, найдите средний размер экрана выпускаемых им ПК-блокнотов.\n",
    "Вывести: maker, средний размер экрана.\n",
    "SELECT DISTINCT maker,  AVG(screen) AS Avg_screen\n",
    "FROM Product INNER JOIN Laptop\n",
    "ON Product.model = Laptop.model\n",
    "GROUP BY maker\n",
    "\n",
    "20.Найдите производителей, выпускающих по меньшей мере три различных модели ПК. Вывести: Maker, число моделей ПК.\n",
    "SELECT DISTINCT maker, COUNT(model) AS Count_Model \n",
    "FROM Product\n",
    "WHERE type = 'PC'\n",
    "GROUP BY maker\n",
    "HAVING COUNT(model) >= 3\n",
    "\n",
    "21.Найдите максимальную цену ПК, выпускаемых каждым производителем, у которого есть модели в таблице PC.\n",
    "Вывести: maker, максимальная цена.\n",
    "SELECT DISTINCT maker, MAX(price) AS Max_price\n",
    "FROM Product INNER JOIN PC\n",
    "ON Product.model = PC.model\n",
    "GROUP BY maker\n",
    "\n",
    "22. Для каждого значения скорости ПК, превышающего 600 МГц, определите среднюю цену ПК с такой же скоростью. Вывести: speed, средняя цена.\n",
    "SELECT speed, AVG(price) AS Avg_price\n",
    "FROM PC\n",
    "WHERE speed > 600\n",
    "GROUP BY speed\n",
    "\n",
    "23. Найдите производителей, которые производили бы как ПК\n",
    "со скоростью не менее 750 МГц, так и ПК-блокноты со скоростью не менее 750 МГц.\n",
    "Вывести: Maker\n",
    "SELECT DISTINCT maker \n",
    "FROM product \n",
    "WHERE model IN (SELECT model FROM PC \n",
    " WHERE speed >= 750) OR \n",
    " model IN (SELECT model \n",
    " FROM Laptop WHERE speed >= 750)\n",
    " \n",
    " 24. Перечислите номера моделей любых типов, имеющих самую высокую цену по всей имеющейся в базе данных продукции.\n",
    "SELECT DISTINCT model\n",
    " FROM (SELECT  model, price \n",
    "      FROM PC\n",
    "      WHERE price = (SELECT MAX(price) FROM PC)\n",
    "      UNION\n",
    "      SELECT  model,  price \n",
    "      FROM Laptop\n",
    "      WHERE price = (SELECT MAX(price) \n",
    "                     FROM Laptop)\n",
    "      UNION\n",
    "      SELECT  model,  price \n",
    "      FROM Printer\n",
    "      WHERE price = (SELECT MAX(price) \n",
    "                     FROM Printer)\n",
    "      ) T\n",
    "WHERE price = (SELECT MAX(price) \n",
    "               FROM Laptop) \n",
    " 25.\n",
    "SELECT DISTINCT maker\n",
    "FROM Product \n",
    "WHERE type = 'printer' AND \n",
    "      maker IN(SELECT maker \n",
    "      FROM Product \n",
    "      WHERE model IN(SELECT model \n",
    "      FROM PC\n",
    "      WHERE speed = (SELECT MAX(speed)\n",
    "      FROM (SELECT speed \n",
    "      FROM PC \n",
    "      WHERE ram=(SELECT MIN(ram)\n",
    "      FROM PC)) AS z4\n",
    "      )\n",
    "      )\n",
    "      )\n",
    "27. \n",
    "FROM (SELECT PC.hd, Product.maker \n",
    "      FROM PC INNER JOIN \n",
    "           Product ON PC.model = Product.model\n",
    "      WHERE Product.maker IN (SELECT Product1.maker \n",
    "      FROM Product Product1  INNER JOIN \n",
    "      Printer ON Product1.model = Printer.model \n",
    "      GROUP BY Product1.maker\n",
    "                              )\n",
    "      ) AS result\n",
    "GROUP BY result.maker;\n",
    "\n",
    "  \n",
    " \n",
    " 28. Используя таблицу Product, определить количество производителей, выпускающих по одной модели.\n",
    "SELECT COUNT(Maker) AS qty\n",
    "FROM Product\n",
    "GROUP BY Maker\n",
    "HAVING COUNT(model) = 1\t"
   ]
  }
 ],
 "metadata": {
  "kernelspec": {
   "display_name": "Python 3",
   "language": "python",
   "name": "python3"
  },
  "language_info": {
   "codemirror_mode": {
    "name": "ipython",
    "version": 3
   },
   "file_extension": ".py",
   "mimetype": "text/x-python",
   "name": "python",
   "nbconvert_exporter": "python",
   "pygments_lexer": "ipython3",
   "version": "3.8.8"
  }
 },
 "nbformat": 4,
 "nbformat_minor": 2
}
