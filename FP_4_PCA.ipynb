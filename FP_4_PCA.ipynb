{
 "cells": [
  {
   "cell_type": "markdown",
   "id": "b5259663",
   "metadata": {},
   "source": [
    "# Зменшення розмірності даних за допомогою МГК"
   ]
  },
  {
   "cell_type": "code",
   "execution_count": 1,
   "id": "be811678",
   "metadata": {},
   "outputs": [],
   "source": [
    "import matplotlib.pyplot as plt\n",
    "import numpy as np\n",
    "import pandas as pd\n",
    "import seaborn as sns\n",
    "%matplotlib inline"
   ]
  },
  {
   "cell_type": "code",
   "execution_count": 2,
   "id": "7d0618ac",
   "metadata": {},
   "outputs": [],
   "source": [
    "from sklearn import preprocessing\n",
    "from sklearn.preprocessing import StandardScaler\n",
    "from sklearn.preprocessing import MinMaxScaler"
   ]
  },
  {
   "cell_type": "code",
   "execution_count": 3,
   "id": "7cf536d9",
   "metadata": {},
   "outputs": [],
   "source": [
    "df = pd.read_spss('Data_prodjWork_copy.sav')"
   ]
  },
  {
   "cell_type": "code",
   "execution_count": 4,
   "id": "16399d19",
   "metadata": {},
   "outputs": [
    {
     "data": {
      "text/plain": [
       "Men_Wom                        float64\n",
       "Wik                            float64\n",
       "Year                    datetime64[ns]\n",
       "Time_happen_fut_1              float64\n",
       "SEO_SELF_ALL                   float64\n",
       "SEO_SELF_ALL_Mean              float64\n",
       "Estimate_positive              float64\n",
       "Estimate_negative              float64\n",
       "Probabipity_negative           float64\n",
       "Probabipity_positive           float64\n",
       "SEO_Posit_social               float64\n",
       "SEO_Posit_individual           float64\n",
       "SEO_Posit_prestize             float64\n",
       "SEO_Negative_work              float64\n",
       "SEO_Negative_individ           float64\n",
       "SEO_Negative_social            float64\n",
       "SEO_ALL_GROUP                  float64\n",
       "dtype: object"
      ]
     },
     "execution_count": 4,
     "metadata": {},
     "output_type": "execute_result"
    }
   ],
   "source": [
    "df.dtypes"
   ]
  },
  {
   "cell_type": "markdown",
   "id": "ab25c031",
   "metadata": {},
   "source": [
    "Скорочення розмірності для позитивних показників"
   ]
  },
  {
   "cell_type": "code",
   "execution_count": 5,
   "id": "68b182d9",
   "metadata": {},
   "outputs": [],
   "source": [
    "feature_cols = [ 'SEO_Posit_social', 'SEO_Posit_individual', 'SEO_Posit_prestize']\n",
    "X = df[feature_cols] # незалежні змінні\n"
   ]
  },
  {
   "cell_type": "code",
   "execution_count": 6,
   "id": "e24b7a9b",
   "metadata": {},
   "outputs": [],
   "source": [
    "X = StandardScaler().fit_transform(X)"
   ]
  },
  {
   "cell_type": "code",
   "execution_count": 7,
   "id": "4cbbf8e1",
   "metadata": {},
   "outputs": [],
   "source": [
    "from sklearn.decomposition import PCA\n",
    "pca_optimism = PCA(n_components=2)\n",
    "principalComponents_optimism = pca_optimism.fit_transform(X)"
   ]
  },
  {
   "cell_type": "markdown",
   "id": "54c9a7d0",
   "metadata": {},
   "source": [
    "Записую результати РСА у нову базу даних"
   ]
  },
  {
   "cell_type": "code",
   "execution_count": 8,
   "id": "35c2a549",
   "metadata": {},
   "outputs": [],
   "source": [
    "principal_optimism_Df = pd.DataFrame(data = principalComponents_optimism\n",
    "             , columns = ['principal component 1', 'principal component 2'])"
   ]
  },
  {
   "cell_type": "code",
   "execution_count": 12,
   "id": "adefb453",
   "metadata": {},
   "outputs": [
    {
     "name": "stdout",
     "output_type": "stream",
     "text": [
      "Explained variation per principal component: [0.65477649 0.22577362]\n"
     ]
    }
   ],
   "source": [
    "print('Explained variation per principal component: {}'.format(pca_optimism.explained_variance_ratio_))"
   ]
  },
  {
   "cell_type": "code",
   "execution_count": 9,
   "id": "1ef17c86",
   "metadata": {},
   "outputs": [
    {
     "data": {
      "text/html": [
       "<div>\n",
       "<style scoped>\n",
       "    .dataframe tbody tr th:only-of-type {\n",
       "        vertical-align: middle;\n",
       "    }\n",
       "\n",
       "    .dataframe tbody tr th {\n",
       "        vertical-align: top;\n",
       "    }\n",
       "\n",
       "    .dataframe thead th {\n",
       "        text-align: right;\n",
       "    }\n",
       "</style>\n",
       "<table border=\"1\" class=\"dataframe\">\n",
       "  <thead>\n",
       "    <tr style=\"text-align: right;\">\n",
       "      <th></th>\n",
       "      <th>principal component 1</th>\n",
       "      <th>principal component 2</th>\n",
       "    </tr>\n",
       "  </thead>\n",
       "  <tbody>\n",
       "    <tr>\n",
       "      <th>0</th>\n",
       "      <td>-2.347728</td>\n",
       "      <td>0.093789</td>\n",
       "    </tr>\n",
       "    <tr>\n",
       "      <th>1</th>\n",
       "      <td>-2.924542</td>\n",
       "      <td>0.000855</td>\n",
       "    </tr>\n",
       "    <tr>\n",
       "      <th>2</th>\n",
       "      <td>-1.992727</td>\n",
       "      <td>0.759581</td>\n",
       "    </tr>\n",
       "    <tr>\n",
       "      <th>3</th>\n",
       "      <td>-1.362061</td>\n",
       "      <td>1.293494</td>\n",
       "    </tr>\n",
       "    <tr>\n",
       "      <th>4</th>\n",
       "      <td>-1.557912</td>\n",
       "      <td>1.076311</td>\n",
       "    </tr>\n",
       "    <tr>\n",
       "      <th>...</th>\n",
       "      <td>...</td>\n",
       "      <td>...</td>\n",
       "    </tr>\n",
       "    <tr>\n",
       "      <th>1025</th>\n",
       "      <td>0.509582</td>\n",
       "      <td>-0.177849</td>\n",
       "    </tr>\n",
       "    <tr>\n",
       "      <th>1026</th>\n",
       "      <td>-0.053218</td>\n",
       "      <td>-0.197871</td>\n",
       "    </tr>\n",
       "    <tr>\n",
       "      <th>1027</th>\n",
       "      <td>0.126042</td>\n",
       "      <td>0.279581</td>\n",
       "    </tr>\n",
       "    <tr>\n",
       "      <th>1028</th>\n",
       "      <td>0.842855</td>\n",
       "      <td>-0.833922</td>\n",
       "    </tr>\n",
       "    <tr>\n",
       "      <th>1029</th>\n",
       "      <td>-0.230005</td>\n",
       "      <td>-0.521412</td>\n",
       "    </tr>\n",
       "  </tbody>\n",
       "</table>\n",
       "<p>1030 rows × 2 columns</p>\n",
       "</div>"
      ],
      "text/plain": [
       "      principal component 1  principal component 2\n",
       "0                 -2.347728               0.093789\n",
       "1                 -2.924542               0.000855\n",
       "2                 -1.992727               0.759581\n",
       "3                 -1.362061               1.293494\n",
       "4                 -1.557912               1.076311\n",
       "...                     ...                    ...\n",
       "1025               0.509582              -0.177849\n",
       "1026              -0.053218              -0.197871\n",
       "1027               0.126042               0.279581\n",
       "1028               0.842855              -0.833922\n",
       "1029              -0.230005              -0.521412\n",
       "\n",
       "[1030 rows x 2 columns]"
      ]
     },
     "execution_count": 9,
     "metadata": {},
     "output_type": "execute_result"
    }
   ],
   "source": [
    "principal_optimism_Df"
   ]
  },
  {
   "cell_type": "code",
   "execution_count": 10,
   "id": "86bd474f",
   "metadata": {},
   "outputs": [],
   "source": [
    "finalDf = principal_optimism_Df#скорочую назву бази даних"
   ]
  },
  {
   "cell_type": "markdown",
   "id": "0450f80f",
   "metadata": {},
   "source": [
    "Виводжу графічний розподіл результаів стосовно двох чинників"
   ]
  },
  {
   "cell_type": "code",
   "execution_count": 12,
   "id": "6a08a8f7",
   "metadata": {},
   "outputs": [
    {
     "data": {
      "image/png": "[encoded data removed]",
      "text/plain": [
       "<Figure size 576x576 with 1 Axes>"
      ]
     },
     "metadata": {
      "needs_background": "light"
     },
     "output_type": "display_data"
    }
   ],
   "source": [
    "fig = plt.figure(figsize = (8,8))\n",
    "ax = fig.add_subplot(1,1,1) \n",
    "ax.set_xlabel('Principal Component 1', fontsize = 15)\n",
    "ax.set_ylabel('Principal Component 2', fontsize = 15)\n",
    "ax.set_title('2 component PCA', fontsize = 20)\n",
    "targets = ['Participant results']\n",
    "colors = ['g']\n",
    "for target, color in zip(targets,colors):\n",
    "    indicesToKeep = finalDf.index\n",
    "    ax.scatter(finalDf.loc[indicesToKeep, 'principal component 1']\n",
    "               , finalDf.loc[indicesToKeep, 'principal component 2']\n",
    "               , c = color\n",
    "               , s =2)\n",
    "ax.legend(targets)\n",
    "ax.grid()\n",
    "fig.savefig(\"mlpr_0105.png\", dpi = 300,  bbox_inches=\"tight\")"
   ]
  },
  {
   "cell_type": "markdown",
   "id": "b5da37f5",
   "metadata": {},
   "source": [
    "Скорочення розмірності для позитивних показників"
   ]
  },
  {
   "cell_type": "code",
   "execution_count": 13,
   "id": "446b391c",
   "metadata": {},
   "outputs": [],
   "source": [
    "feature_cols1 = [ 'SEO_Negative_work', 'SEO_Negative_individ', 'SEO_Negative_social']\n",
    "X1 = df[feature_cols] # незалежні змінні\n",
    "y1 = df['SEO_ALL_GROUP'] # залежна змінна"
   ]
  },
  {
   "cell_type": "code",
   "execution_count": 14,
   "id": "c82a7c38",
   "metadata": {},
   "outputs": [],
   "source": [
    "from sklearn.decomposition import PCA\n",
    "pca_pesimism = PCA(n_components=2)\n",
    "principalComponents_pesimism = pca_pesimism.fit_transform(X1)"
   ]
  },
  {
   "cell_type": "code",
   "execution_count": 15,
   "id": "156f4aa9",
   "metadata": {},
   "outputs": [],
   "source": [
    "principal_pesimism_Df = pd.DataFrame(data = principalComponents_pesimism\n",
    "             , columns = ['principal component 1', 'principal component 2'])"
   ]
  },
  {
   "cell_type": "code",
   "execution_count": 16,
   "id": "568ad126",
   "metadata": {},
   "outputs": [
    {
     "name": "stdout",
     "output_type": "stream",
     "text": [
      "Explained variation per principal component: [0.73616569 0.1578092 ]\n"
     ]
    }
   ],
   "source": [
    "print('Explained variation per principal component: {}'.format(pca_pesimism.explained_variance_ratio_))"
   ]
  },
  {
   "cell_type": "code",
   "execution_count": 17,
   "id": "af5fefd5",
   "metadata": {},
   "outputs": [],
   "source": [
    "finalDf1 = principal_pesimism_Df"
   ]
  },
  {
   "cell_type": "code",
   "execution_count": 18,
   "id": "3a86a48c",
   "metadata": {},
   "outputs": [
    {
     "data": {
      "image/png": "[encoded data removed]",
      "text/plain": [
       "<Figure size 576x576 with 1 Axes>"
      ]
     },
     "metadata": {
      "needs_background": "light"
     },
     "output_type": "display_data"
    }
   ],
   "source": [
    "fig = plt.figure(figsize = (8,8))\n",
    "ax = fig.add_subplot(1,1,1) \n",
    "ax.set_xlabel('Principal Component 1', fontsize = 15)\n",
    "ax.set_ylabel('Principal Component 2', fontsize = 15)\n",
    "ax.set_title('2 component PCA', fontsize = 20)\n",
    "targets = ['Participant results']\n",
    "colors = ['r']\n",
    "for target, color in zip(targets,colors):\n",
    "    indicesToKeep = finalDf1.index\n",
    "    ax.scatter(finalDf1.loc[indicesToKeep, 'principal component 1']\n",
    "               , finalDf1.loc[indicesToKeep, 'principal component 2']\n",
    "               , c = color\n",
    "               , s =2)\n",
    "ax.legend(targets)\n",
    "ax.grid()\n",
    "fig.savefig(\"mlpr_0106.png\", dpi = 300,  bbox_inches=\"tight\")"
   ]
  }
 ],
 "metadata": {
  "kernelspec": {
   "display_name": "Python 3",
   "language": "python",
   "name": "python3"
  },
  "language_info": {
   "codemirror_mode": {
    "name": "ipython",
    "version": 3
   },
   "file_extension": ".py",
   "mimetype": "text/x-python",
   "name": "python",
   "nbconvert_exporter": "python",
   "pygments_lexer": "ipython3",
   "version": "3.8.8"
  }
 },
 "nbformat": 4,
 "nbformat_minor": 5
}
